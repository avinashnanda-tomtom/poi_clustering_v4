{
 "cells": [
  {
   "cell_type": "code",
   "execution_count": 1,
   "metadata": {},
   "outputs": [],
   "source": [
    "import pandas as pd\n",
    "import numpy as np\n",
    "from utils.cleaning_utils import canonical_url, clean_email, process_phone, clean_text, unique_list, clean_name, clean_streets, rem_words\n",
    "from tqdm.auto import tqdm"
   ]
  },
  {
   "cell_type": "code",
   "execution_count": 2,
   "metadata": {},
   "outputs": [],
   "source": [
    "df = pd.read_excel(\"/workspace/Manual_Verification_Dedup_POIs_Final.xlsx\",sheet_name=\"duplicates_0.9_final_sample\")"
   ]
  },
  {
   "cell_type": "code",
   "execution_count": 3,
   "metadata": {},
   "outputs": [
    {
     "data": {
      "text/plain": [
       "(2000, 34)"
      ]
     },
     "execution_count": 3,
     "metadata": {},
     "output_type": "execute_result"
    }
   ],
   "source": [
    "df.shape"
   ]
  },
  {
   "cell_type": "markdown",
   "metadata": {},
   "source": [
    "# cleaning"
   ]
  },
  {
   "cell_type": "code",
   "execution_count": 4,
   "metadata": {},
   "outputs": [],
   "source": [
    "df[\"latitude1\"] = df[\"latitude1\"].astype(np.float32)\n",
    "df[\"longitude1\"] = df[\"longitude1\"].astype(np.float32)\n",
    "df[\"latitude2\"] = df[\"latitude2\"].astype(np.float32)\n",
    "df[\"longitude2\"] = df[\"longitude2\"].astype(np.float32)\n",
    "df = df[~(df[\"longitude1\"].isnull())]\n",
    "df[\"officialName1\"] = df[\"officialName1\"].str.strip()\n",
    "df[\"officialName1\"] = df[\"officialName1\"].replace(\"\", np.nan)\n",
    "df[\"officialName2\"] = df[\"officialName2\"].str.strip()\n",
    "df[\"officialName2\"] = df[\"officialName2\"].replace(\"\", np.nan)\n",
    "df = df[~(df[\"officialName1\"].isnull())]\n",
    "df.drop_duplicates(inplace=True)\n",
    "\n",
    "df[\"internet1\"] = df[\"internet1\"].apply(canonical_url)\n",
    "df[\"email1\"] = df[\"email1\"].apply(canonical_url)\n",
    "df[\"internet1\"] = df[\"internet1\"].apply(clean_email)\n",
    "df[\"email1\"] = df[\"email1\"].apply(clean_email)\n",
    "df[\"internet2\"] = df[\"internet2\"].apply(canonical_url)\n",
    "df[\"email2\"] = df[\"email2\"].apply(canonical_url)\n",
    "df[\"internet2\"] = df[\"internet2\"].apply(clean_email)\n",
    "df[\"email2\"] = df[\"email2\"].apply(clean_email)\n",
    "df[\"phoneNumbers1\"] = df[\"phoneNumbers1\"].apply(process_phone)\n",
    "df[\"phoneNumbers2\"] = df[\"phoneNumbers2\"].apply(process_phone)"
   ]
  },
  {
   "cell_type": "code",
   "execution_count": 5,
   "metadata": {},
   "outputs": [
    {
     "data": {
      "application/vnd.jupyter.widget-view+json": {
       "model_id": "e8b6c5908ebf4725a8655190ebb0f684",
       "version_major": 2,
       "version_minor": 0
      },
      "text/plain": [
       "  0%|          | 0/20 [00:00<?, ?it/s]"
      ]
     },
     "metadata": {},
     "output_type": "display_data"
    }
   ],
   "source": [
    "text_columns = [\n",
    "    \"officialName1\", \"brands1\", \"houseNumber1\", \"category1\", \"streets1\",\n",
    "    \"cities1\", \"postalCode1\", \"subCategory1\", \"email1\", \"internet1\",\n",
    "    \"officialName2\", \"brands2\", \"houseNumber2\", \"category2\", \"streets2\",\n",
    "    \"cities2\", \"postalCode2\", \"subCategory2\", \"email2\", \"internet2\"\n",
    "]\n",
    "\n",
    "for col in tqdm(text_columns):\n",
    "    df[col] = df[col].astype(\"str\").astype(str).replace('nan', np.nan)\n",
    "    df[col] = df[col].apply(clean_text)"
   ]
  },
  {
   "cell_type": "code",
   "execution_count": 6,
   "metadata": {},
   "outputs": [],
   "source": [
    "df[\"brands1\"] = df[\"brands1\"].apply(unique_list)\n",
    "df[\"subCategory1\"] = df[\"subCategory1\"].apply(unique_list)\n",
    "df[\"officialName1\"] = df[\"officialName1\"].apply(unique_list)\n",
    "df[\"streets1\"] = df[\"streets1\"].apply(unique_list)\n",
    "df[\"cities1\"] = df[\"cities1\"].apply(unique_list)\n",
    "df[\"brands2\"] = df[\"brands2\"].apply(unique_list)\n",
    "df[\"subCategory2\"] = df[\"subCategory2\"].apply(unique_list)\n",
    "df[\"officialName2\"] = df[\"officialName2\"].apply(unique_list)\n",
    "df[\"streets2\"] = df[\"streets2\"].apply(unique_list)\n",
    "df[\"cities2\"] = df[\"cities2\"].apply(unique_list)\n",
    "\n"
   ]
  },
  {
   "cell_type": "code",
   "execution_count": 7,
   "metadata": {},
   "outputs": [],
   "source": [
    "df[\"subCategory1\"].replace('unspecified', np.nan, regex=True, inplace=True)\n",
    "\n",
    "df[\"cities1\"] = df[\"cities1\"].apply(clean_streets)\n",
    "df[\"streets1\"] = df[\"streets1\"].apply(clean_streets)\n",
    "df[\"officialName1\"] = df[\"officialName1\"].apply(clean_name)\n",
    "\n",
    "df[\"officialName1\"] = df[\"officialName1\"].apply(rem_words)\n",
    "df[\"cities1\"] = df[\"cities1\"].apply(rem_words)\n",
    "df[\"streets1\"] = df[\"streets1\"].apply(rem_words)\n",
    "\n",
    "df[\"subCategory2\"].replace('unspecified', np.nan, regex=True, inplace=True)\n",
    "\n",
    "df[\"cities2\"] = df[\"cities2\"].apply(clean_streets)\n",
    "df[\"streets2\"] = df[\"streets2\"].apply(clean_streets)\n",
    "df[\"officialName2\"] = df[\"officialName2\"].apply(clean_name)\n",
    "\n",
    "df[\"officialName2\"] = df[\"officialName2\"].apply(rem_words)\n",
    "df[\"cities2\"] = df[\"cities2\"].apply(rem_words)\n",
    "df[\"streets2\"] = df[\"streets2\"].apply(rem_words)"
   ]
  },
  {
   "cell_type": "code",
   "execution_count": 8,
   "metadata": {},
   "outputs": [],
   "source": [
    "df = df.replace(r'^\\s*$', np.nan, regex=True)\n",
    "\n",
    "df[\"officialName1\"] = df[\"officialName1\"].replace(\"\", np.nan)\n",
    "df = df[~(df[\"officialName1\"].isnull())]\n",
    "df[\"officialName2\"] = df[\"officialName2\"].replace(\"\", np.nan)\n",
    "df = df[~(df[\"officialName2\"].isnull())]"
   ]
  },
  {
   "cell_type": "code",
   "execution_count": 9,
   "metadata": {},
   "outputs": [],
   "source": [
    "\n",
    "\n",
    "df[\"category1\"].replace('caf pub', 'cafe pub', regex=True,inplace=True)\n",
    "\n",
    "\n",
    "df[\"category2\"].replace('caf pub', 'cafe pub', regex=True,inplace=True)"
   ]
  },
  {
   "cell_type": "code",
   "execution_count": 10,
   "metadata": {},
   "outputs": [],
   "source": [
    "df.to_csv(\"/workspace/Manual_Verification_Dedup_POIs_Final_cleaned.csv\",index=None)"
   ]
  },
  {
   "cell_type": "markdown",
   "metadata": {},
   "source": [
    "# create features"
   ]
  },
  {
   "cell_type": "code",
   "execution_count": 11,
   "metadata": {},
   "outputs": [],
   "source": [
    "from utils.create_features import jaro, WRatio, ratio, davies, token_set_ratio, add_lat_lon_distance_features, strike_a_match, leven\n",
    "from utils.features_utils import name_distance, extract_directions, is_direction_match, name_number_match,\\\n",
    "    is_related_cat, category_match, clean_email, sub_category_match, brand_match, house_match, email_url_match, phone_lcs,phone_category"
   ]
  },
  {
   "cell_type": "code",
   "execution_count": 12,
   "metadata": {},
   "outputs": [],
   "source": [
    "# df[\"phoneNumbers1\"] = df[\"phoneNumbers1\"].apply(eval)\n",
    "# df[\"phoneNumbers2\"] = df[\"phoneNumbers2\"].apply(eval)"
   ]
  },
  {
   "cell_type": "code",
   "execution_count": 13,
   "metadata": {},
   "outputs": [],
   "source": [
    "df.rename(columns={'officialName1':'sourceNames1'},inplace=True)\n",
    "df.rename(columns={'officialName2':'sourceNames2'},inplace=True)"
   ]
  },
  {
   "cell_type": "code",
   "execution_count": 14,
   "metadata": {},
   "outputs": [
    {
     "data": {
      "application/vnd.jupyter.widget-view+json": {
       "model_id": "e5b3a5a174a847d6810435711f4c8d6f",
       "version_major": 2,
       "version_minor": 0
      },
      "text/plain": [
       "  0%|          | 0/1 [00:00<?, ?it/s]"
      ]
     },
     "metadata": {},
     "output_type": "display_data"
    },
    {
     "data": {
      "application/vnd.jupyter.widget-view+json": {
       "model_id": "08fdb40ea41f4b7ab054999e76ae24e9",
       "version_major": 2,
       "version_minor": 0
      },
      "text/plain": [
       "Batches:   0%|          | 0/4 [00:00<?, ?it/s]"
      ]
     },
     "metadata": {},
     "output_type": "display_data"
    }
   ],
   "source": [
    "similarity = name_distance(list(df[\"sourceNames1\"]),list(df[\"sourceNames2\"]))\n",
    "df[\"similarity\"] = similarity"
   ]
  },
  {
   "cell_type": "code",
   "execution_count": 15,
   "metadata": {},
   "outputs": [],
   "source": [
    "df = add_lat_lon_distance_features(df)"
   ]
  },
  {
   "cell_type": "code",
   "execution_count": 16,
   "metadata": {},
   "outputs": [],
   "source": [
    "df[\"direction1\"] = df[\"sourceNames1\"].apply(extract_directions)\n",
    "df[\"direction2\"] = df[\"sourceNames2\"].apply(extract_directions)\n",
    "df['Is_direction_match'] = df.apply(lambda x: is_direction_match(x.direction1, x.direction2), axis=1)\n"
   ]
  },
  {
   "cell_type": "code",
   "execution_count": 17,
   "metadata": {},
   "outputs": [],
   "source": [
    "df[\"name1_number\"] = df[\"sourceNames1\"].str.extract('(\\d+)')\n",
    "df[\"name2_number\"] = df[\"sourceNames2\"].str.extract('(\\d+)')\n",
    "df['Is_name_number_match'] = df.apply(lambda x: name_number_match(x.name1_number, x.name2_number), axis=1)"
   ]
  },
  {
   "cell_type": "code",
   "execution_count": 18,
   "metadata": {},
   "outputs": [],
   "source": [
    "df['Is_related_cat'] = df.apply(lambda x: is_related_cat(x.category1, x.category2), axis=1)\n",
    "df['Is_category_match'] = df.apply(lambda x: category_match(x.category1, x.category2), axis=1)\n",
    "df['Is_subcategory_match'] = df.apply(lambda x: sub_category_match(x.subCategory1, x.subCategory2), axis=1)"
   ]
  },
  {
   "cell_type": "code",
   "execution_count": 19,
   "metadata": {},
   "outputs": [],
   "source": [
    "df['Is_brand_match'] = df.apply(lambda x: brand_match(x.brands1, x.brands2), axis=1)\n",
    "df['Is_house_match'] = df.apply(lambda x: house_match(x.houseNumber1, x.houseNumber2), axis=1)\n",
    "df['is_phone_match'] = df.apply(lambda x: phone_category(x.phoneNumbers1, x.phoneNumbers2), axis=1)"
   ]
  },
  {
   "cell_type": "code",
   "execution_count": 20,
   "metadata": {},
   "outputs": [],
   "source": [
    "df['Is_email_match'] = df.apply(lambda x: email_url_match(x.email1, x.email2), axis=1)\n",
    "df['Is_url_match'] = df.apply(lambda x: email_url_match(x.internet1, x.internet2), axis=1)\n"
   ]
  },
  {
   "cell_type": "code",
   "execution_count": 21,
   "metadata": {},
   "outputs": [],
   "source": [
    "df['name_davies'] = df.apply(lambda x: davies(x.sourceNames1, x.sourceNames2), axis=1)\n",
    "df['name_leven'] = df.apply(lambda x: leven(x.sourceNames1, x.sourceNames2), axis=1)\n",
    "df['name_dice'] = df.apply(lambda x: strike_a_match(x.sourceNames1, x.sourceNames2), axis=1)\n",
    "df['name_jaro'] = df.apply(lambda x: jaro(x.sourceNames1, x.sourceNames2), axis=1)\n",
    "df['name_set_ratio'] = df.apply(lambda x: token_set_ratio(x.sourceNames1, x.sourceNames2), axis=1)"
   ]
  },
  {
   "cell_type": "code",
   "execution_count": 22,
   "metadata": {},
   "outputs": [],
   "source": [
    "df['street_davies'] = df.apply(lambda x: davies(x.streets1, x.streets2), axis=1)\n",
    "df['street_leven'] = df.apply(lambda x: leven(x.streets1, x.streets2), axis=1)\n",
    "df['street_jaro'] = df.apply(lambda x: jaro(x.streets1, x.streets2), axis=1)"
   ]
  },
  {
   "cell_type": "code",
   "execution_count": 23,
   "metadata": {},
   "outputs": [],
   "source": [
    "df['email_davies'] = df.apply(lambda x: davies(x.email1, x.email2), axis=1)\n",
    "df['email_leven'] = df.apply(lambda x: leven(x.email1, x.email2), axis=1)\n",
    "df['email_jaro'] = df.apply(lambda x: jaro(x.email1, x.email2), axis=1)"
   ]
  },
  {
   "cell_type": "code",
   "execution_count": 24,
   "metadata": {},
   "outputs": [],
   "source": [
    "df['url_davies'] = df.apply(lambda x: davies(x.internet1, x.internet2), axis=1)\n",
    "df['url_leven'] = df.apply(lambda x: leven(x.internet1, x.internet2), axis=1)\n",
    "df['url_jaro'] = df.apply(lambda x: jaro(x.internet1, x.internet2), axis=1)"
   ]
  },
  {
   "cell_type": "code",
   "execution_count": 25,
   "metadata": {},
   "outputs": [],
   "source": [
    "df['brands_davies'] = df.apply(lambda x: davies(x.brands1, x.brands2), axis=1)\n",
    "df['brand_leven'] = df.apply(lambda x: leven(x.brands1, x.brands2), axis=1)\n",
    "df['brand_jaro'] = df.apply(lambda x: jaro(x.brands1, x.brands2), axis=1)"
   ]
  },
  {
   "cell_type": "code",
   "execution_count": 26,
   "metadata": {},
   "outputs": [],
   "source": [
    "df['phone_lcs'] = df.apply(lambda x: phone_lcs(x.phoneNumbers1, x.phoneNumbers2), axis=1)\n",
    "df['subcat_WRatio'] = df.apply(lambda x: WRatio(x.subCategory1, x.subCategory2), axis=1)\n",
    "df['subcat_ratio'] = df.apply(lambda x: ratio(x.subCategory1, x.subCategory2), axis=1)\n",
    "df['subcat_token_set_ratio'] = df.apply(lambda x: token_set_ratio(x.subCategory1, x.subCategory2), axis=1)"
   ]
  },
  {
   "cell_type": "code",
   "execution_count": 27,
   "metadata": {},
   "outputs": [],
   "source": [
    "cat_columns = [\n",
    "    'Is_direction_match', 'Is_house_match', 'Is_category_match',\n",
    "    'Is_subcategory_match', 'Is_brand_match', 'Is_related_cat',\n",
    "    'Is_name_number_match', 'is_phone_match', 'Is_email_match', 'Is_url_match'\n",
    "]\n"
   ]
  },
  {
   "cell_type": "code",
   "execution_count": 28,
   "metadata": {},
   "outputs": [],
   "source": [
    "df = pd.get_dummies(df, columns = cat_columns)"
   ]
  },
  {
   "cell_type": "code",
   "execution_count": 29,
   "metadata": {},
   "outputs": [],
   "source": [
    "cols = [\n",
    "    'country', 'placeId1', 'placeId2', 'sourceNames1', 'sourceNames2',\n",
    "    'category1', 'category2', 'brands1', 'brands2', 'email1', 'email2',\n",
    "    'latitude1', 'longitude1', 'latitude2', 'longitude2', 'houseNumber1',\n",
    "    'houseNumber2', 'streets1', 'streets2', 'cities1', 'cities2',\n",
    "    'subCategory1', 'subCategory2', 'phoneNumbers1', 'phoneNumbers2',\n",
    "    'internet1', 'internet2', 'postalCode1', 'postalCode2', 'similarity',\n",
    "    'haversine', 'name_davies', 'name_leven', 'name_dice', 'name_jaro',\n",
    "    'name_set_ratio', 'street_davies', 'street_leven', 'street_jaro',\n",
    "    'email_davies', 'email_leven', 'email_jaro', 'url_davies', 'url_leven',\n",
    "    'url_jaro', 'brands_davies', 'brand_leven', 'brand_jaro', 'phone_lcs',\n",
    "    'subcat_WRatio', 'subcat_ratio', 'subcat_token_set_ratio',\n",
    "    'Is_direction_match_0', 'Is_direction_match_1', 'Is_direction_match_2',\n",
    "    'Is_house_match_0', 'Is_house_match_1', 'Is_house_match_2',\n",
    "    'Is_category_match_0', 'Is_category_match_1', 'Is_subcategory_match_0',\n",
    "    'Is_subcategory_match_1', 'Is_subcategory_match_2', 'Is_brand_match_0',\n",
    "    'Is_brand_match_1', 'Is_brand_match_2', 'Is_brand_match_3',\n",
    "    'Is_related_cat_0', 'Is_related_cat_1', 'Is_name_number_match_0',\n",
    "    'Is_name_number_match_1', 'Is_name_number_match_2',\n",
    "    'Is_name_number_match_3', 'is_phone_match_1', 'is_phone_match_2',\n",
    "    'is_phone_match_3', 'is_phone_match_4', 'Is_email_match_0',\n",
    "    'Is_email_match_1', 'Is_email_match_2', 'Is_url_match_0', 'Is_url_match_1',\n",
    "    'Is_url_match_2','Duplicate(Y/N)'\n",
    "]\n"
   ]
  },
  {
   "cell_type": "code",
   "execution_count": 30,
   "metadata": {},
   "outputs": [],
   "source": [
    "missing_cols = set(cols) - set( df.columns )\n",
    "# Add a missing column in test set with default value equal to 0\n"
   ]
  },
  {
   "cell_type": "code",
   "execution_count": 31,
   "metadata": {},
   "outputs": [],
   "source": [
    "for c in missing_cols:\n",
    "    df[c] = 0"
   ]
  },
  {
   "cell_type": "code",
   "execution_count": 32,
   "metadata": {},
   "outputs": [],
   "source": [
    "df[cols].to_csv(\"/workspace/Manual_Verification_Dedup_POIs_Final_cleaned_features.csv\",index=None)"
   ]
  },
  {
   "cell_type": "markdown",
   "metadata": {},
   "source": [
    "# inference"
   ]
  },
  {
   "cell_type": "code",
   "execution_count": 33,
   "metadata": {},
   "outputs": [],
   "source": [
    "import pandas as pd\n",
    "import numpy as np\n",
    "from utils.forest_infer import pred_multi\n",
    "from utils.metrics import print_metrics\n",
    "import glob\n",
    "from tqdm import tqdm\n",
    "from utils.forest_infer import pred_multi\n",
    "from xgboost import XGBClassifier\n",
    "import gc\n",
    "from catboost import CatBoostClassifier"
   ]
  },
  {
   "cell_type": "code",
   "execution_count": 34,
   "metadata": {},
   "outputs": [],
   "source": [
    "features = ['similarity', 'haversine', 'name_davies',\n",
    "       'name_leven', 'name_dice', 'name_jaro', 'name_set_ratio',\n",
    "       'street_davies', 'street_leven', 'street_jaro', 'email_davies',\n",
    "       'email_leven', 'email_jaro', 'url_davies', 'url_leven', 'url_jaro',\n",
    "       'brands_davies', 'brand_leven', 'brand_jaro', 'phone_lcs',\n",
    "       'subcat_WRatio', 'subcat_ratio', 'subcat_token_set_ratio',\n",
    "       'Is_direction_match_0', 'Is_direction_match_1', 'Is_direction_match_2',\n",
    "       'Is_house_match_0', 'Is_house_match_1', 'Is_house_match_2',\n",
    "       'Is_category_match_0', 'Is_category_match_1', 'Is_subcategory_match_0',\n",
    "       'Is_subcategory_match_1', 'Is_subcategory_match_2', 'Is_brand_match_0',\n",
    "       'Is_brand_match_1', 'Is_brand_match_2', 'Is_brand_match_3',\n",
    "       'Is_related_cat_0', 'Is_related_cat_1', 'Is_name_number_match_0',\n",
    "       'Is_name_number_match_1', 'Is_name_number_match_2',\n",
    "       'Is_name_number_match_3', 'is_phone_match_1', 'is_phone_match_2',\n",
    "       'is_phone_match_3', 'is_phone_match_4', 'Is_email_match_0',\n",
    "       'Is_email_match_1', 'Is_email_match_2', 'Is_url_match_0',\n",
    "       'Is_url_match_1', 'Is_url_match_2']"
   ]
  },
  {
   "cell_type": "code",
   "execution_count": 35,
   "metadata": {},
   "outputs": [],
   "source": [
    "models = glob.glob(f\"/workspace/models/model_duplicate_gsplit_lgb*\")"
   ]
  },
  {
   "cell_type": "code",
   "execution_count": 36,
   "metadata": {},
   "outputs": [
    {
     "name": "stderr",
     "output_type": "stream",
     "text": [
      "  0%|          | 0/5 [00:00<?, ?it/s]"
     ]
    },
    {
     "name": "stdout",
     "output_type": "stream",
     "text": [
      "huggingface/tokenizers: The current process just got forked, after parallelism has already been used. Disabling parallelism to avoid deadlocks...\n",
      "To disable this warning, you can either:\n",
      "\t- Avoid using `tokenizers` before the fork if possible\n",
      "\t- Explicitly set the environment variable TOKENIZERS_PARALLELISM=(true | false)\n",
      "[W] [07:50:05.033953] Treelite currently does not support float64 model parameters. Accuracy may degrade slightly relative to native LightGBM invocation.\n"
     ]
    },
    {
     "data": {
      "application/vnd.jupyter.widget-view+json": {
       "model_id": "2da2a4a381d742e2bb3682e9a5f9dea5",
       "version_major": 2,
       "version_minor": 0
      },
      "text/plain": [
       "  0%|          | 0/4 [00:00<?, ?it/s]"
      ]
     },
     "metadata": {},
     "output_type": "display_data"
    },
    {
     "name": "stderr",
     "output_type": "stream",
     "text": [
      " 20%|██        | 1/5 [00:12<00:50, 12.57s/it]"
     ]
    },
    {
     "name": "stdout",
     "output_type": "stream",
     "text": [
      "[W] [07:50:06.051769] Treelite currently does not support float64 model parameters. Accuracy may degrade slightly relative to native LightGBM invocation.\n"
     ]
    },
    {
     "data": {
      "application/vnd.jupyter.widget-view+json": {
       "model_id": "e4529409ad734dc4b421aebfc7f8e232",
       "version_major": 2,
       "version_minor": 0
      },
      "text/plain": [
       "  0%|          | 0/4 [00:00<?, ?it/s]"
      ]
     },
     "metadata": {},
     "output_type": "display_data"
    },
    {
     "name": "stderr",
     "output_type": "stream",
     "text": [
      " 40%|████      | 2/5 [00:13<00:17,  5.77s/it]"
     ]
    },
    {
     "name": "stdout",
     "output_type": "stream",
     "text": [
      "[W] [07:50:07.056651] Treelite currently does not support float64 model parameters. Accuracy may degrade slightly relative to native LightGBM invocation.\n"
     ]
    },
    {
     "data": {
      "application/vnd.jupyter.widget-view+json": {
       "model_id": "3e4326f925684fdf808456dd229edb28",
       "version_major": 2,
       "version_minor": 0
      },
      "text/plain": [
       "  0%|          | 0/4 [00:00<?, ?it/s]"
      ]
     },
     "metadata": {},
     "output_type": "display_data"
    },
    {
     "name": "stderr",
     "output_type": "stream",
     "text": [
      " 60%|██████    | 3/5 [00:14<00:07,  3.61s/it]"
     ]
    },
    {
     "name": "stdout",
     "output_type": "stream",
     "text": [
      "[W] [07:50:08.108200] Treelite currently does not support float64 model parameters. Accuracy may degrade slightly relative to native LightGBM invocation.\n"
     ]
    },
    {
     "data": {
      "application/vnd.jupyter.widget-view+json": {
       "model_id": "5a33e2bb7a0a46f592eeb298440ca147",
       "version_major": 2,
       "version_minor": 0
      },
      "text/plain": [
       "  0%|          | 0/4 [00:00<?, ?it/s]"
      ]
     },
     "metadata": {},
     "output_type": "display_data"
    },
    {
     "name": "stderr",
     "output_type": "stream",
     "text": [
      " 80%|████████  | 4/5 [00:15<00:02,  2.56s/it]"
     ]
    },
    {
     "name": "stdout",
     "output_type": "stream",
     "text": [
      "[W] [07:50:09.062109] Treelite currently does not support float64 model parameters. Accuracy may degrade slightly relative to native LightGBM invocation.\n"
     ]
    },
    {
     "data": {
      "application/vnd.jupyter.widget-view+json": {
       "model_id": "057073cb1bd846b5ad006d8d128947b7",
       "version_major": 2,
       "version_minor": 0
      },
      "text/plain": [
       "  0%|          | 0/4 [00:00<?, ?it/s]"
      ]
     },
     "metadata": {},
     "output_type": "display_data"
    },
    {
     "name": "stderr",
     "output_type": "stream",
     "text": [
      "100%|██████████| 5/5 [00:16<00:00,  3.34s/it]\n"
     ]
    }
   ],
   "source": [
    "all_pred = []\n",
    "for model_file in tqdm(models):\n",
    "    prediction = pred_multi(model_file,df[features])\n",
    "    all_pred.append(prediction)\n",
    "    \n",
    "all_pred = np.array(all_pred)\n",
    "pred = np.mean(all_pred, axis=0)\n",
    "df[\"prediction_lgb_probab\"] = pred\n",
    "df[\"prediction_lgb\"] = pred>0.5\n",
    "df[\"prediction_lgb\"] = df[\"prediction_lgb\"]*1"
   ]
  },
  {
   "cell_type": "code",
   "execution_count": 37,
   "metadata": {},
   "outputs": [
    {
     "data": {
      "text/plain": [
       "Index(['country', 'placeId1', 'placeId2', 'distance in meters', 'sourceNames1',\n",
       "       'sourceNames2', 'category1', 'category2', 'brands1', 'brands2',\n",
       "       'email1', 'email2', 'latitude1', 'longitude1', 'latitude2',\n",
       "       'longitude2', 'houseNumber1', 'houseNumber2', 'streets1', 'streets2',\n",
       "       'cities1', 'cities2', 'subCategory1', 'subCategory2', 'phoneNumbers1',\n",
       "       'phoneNumbers2', 'internet1', 'internet2', 'postalCode1', 'postalCode2',\n",
       "       'Duplicate(Y/N)', 'POI_OOB(Y/N)', 'Remark', 'Allocation', 'similarity',\n",
       "       'haversine', 'direction1', 'direction2', 'name1_number', 'name2_number',\n",
       "       'name_davies', 'name_leven', 'name_dice', 'name_jaro', 'name_set_ratio',\n",
       "       'street_davies', 'street_leven', 'street_jaro', 'email_davies',\n",
       "       'email_leven', 'email_jaro', 'url_davies', 'url_leven', 'url_jaro',\n",
       "       'brands_davies', 'brand_leven', 'brand_jaro', 'phone_lcs',\n",
       "       'subcat_WRatio', 'subcat_ratio', 'subcat_token_set_ratio',\n",
       "       'Is_direction_match_1', 'Is_direction_match_2', 'Is_house_match_0',\n",
       "       'Is_house_match_1', 'Is_house_match_2', 'Is_category_match_0',\n",
       "       'Is_category_match_1', 'Is_subcategory_match_0',\n",
       "       'Is_subcategory_match_1', 'Is_subcategory_match_2', 'Is_brand_match_0',\n",
       "       'Is_brand_match_1', 'Is_brand_match_2', 'Is_brand_match_3',\n",
       "       'Is_related_cat_0', 'Is_related_cat_1', 'Is_name_number_match_0',\n",
       "       'Is_name_number_match_1', 'Is_name_number_match_2',\n",
       "       'Is_name_number_match_3', 'is_phone_match_1', 'is_phone_match_2',\n",
       "       'is_phone_match_3', 'Is_email_match_0', 'Is_email_match_1',\n",
       "       'Is_email_match_2', 'Is_url_match_0', 'Is_url_match_1',\n",
       "       'Is_url_match_2', 'Is_direction_match_0', 'is_phone_match_4',\n",
       "       'prediction_lgb_probab', 'prediction_lgb'],\n",
       "      dtype='object')"
      ]
     },
     "execution_count": 37,
     "metadata": {},
     "output_type": "execute_result"
    }
   ],
   "source": [
    "df.columns"
   ]
  },
  {
   "cell_type": "code",
   "execution_count": 38,
   "metadata": {},
   "outputs": [],
   "source": [
    "# fig_conf= print_metrics(df[\"Duplicate(Y/N)\"],df[\"prediction_lgb\"])"
   ]
  },
  {
   "cell_type": "code",
   "execution_count": 39,
   "metadata": {},
   "outputs": [],
   "source": [
    "models = glob.glob(f\"/workspace/models/xgboost_dedup_v2_*\")"
   ]
  },
  {
   "cell_type": "code",
   "execution_count": 40,
   "metadata": {},
   "outputs": [],
   "source": [
    "def pred_multi_xgb(model_file,df):\n",
    "    xgb_model = XGBClassifier()\n",
    "    xgb_model.load_model(model_file)\n",
    "    prediction = xgb_model.predict_proba(df)[:, 1]\n",
    "    del xgb_model\n",
    "    gc.collect()\n",
    "    return prediction"
   ]
  },
  {
   "cell_type": "code",
   "execution_count": 41,
   "metadata": {},
   "outputs": [
    {
     "name": "stderr",
     "output_type": "stream",
     "text": [
      "100%|██████████| 5/5 [00:03<00:00,  1.49it/s]\n"
     ]
    }
   ],
   "source": [
    "all_pred = []\n",
    "for model_file in tqdm(models):\n",
    "    prediction = pred_multi_xgb(model_file,df[features])\n",
    "    all_pred.append(prediction)\n",
    "    \n",
    "all_pred = np.array(all_pred)\n",
    "pred = np.mean(all_pred, axis=0)\n",
    "df[\"prediction_xgb_probab\"] = pred\n",
    "df[\"prediction_xgb\"] = pred>0.5\n",
    "df[\"prediction_xgb\"] = df[\"prediction_xgb\"]*1"
   ]
  },
  {
   "cell_type": "code",
   "execution_count": 42,
   "metadata": {},
   "outputs": [],
   "source": [
    "# fig_conf= print_metrics(df[\"Duplicate(Y/N)\"],df[\"prediction_xgb\"])"
   ]
  },
  {
   "cell_type": "code",
   "execution_count": 43,
   "metadata": {},
   "outputs": [],
   "source": [
    "models = glob.glob(f\"/workspace/models/catboost_dedup_*\")"
   ]
  },
  {
   "cell_type": "code",
   "execution_count": 44,
   "metadata": {},
   "outputs": [],
   "source": [
    "def pred_multi_catboost(model_file,df):\n",
    "    xgb_model = CatBoostClassifier()\n",
    "    xgb_model.load_model(model_file)\n",
    "    prediction = xgb_model.predict_proba(df)[:, 1]\n",
    "    del xgb_model\n",
    "    gc.collect()\n",
    "    return prediction"
   ]
  },
  {
   "cell_type": "code",
   "execution_count": 45,
   "metadata": {},
   "outputs": [
    {
     "name": "stderr",
     "output_type": "stream",
     "text": [
      "100%|██████████| 5/5 [00:02<00:00,  2.09it/s]\n"
     ]
    }
   ],
   "source": [
    "all_pred = []\n",
    "for model_file in tqdm(models):\n",
    "    prediction = pred_multi_catboost(model_file,df[features])\n",
    "    all_pred.append(prediction)\n",
    "    \n",
    "all_pred = np.array(all_pred)\n",
    "pred = np.mean(all_pred, axis=0)\n",
    "df[\"prediction_catboost_probab\"] = pred\n",
    "df[\"prediction_catboost\"] = pred>0.5\n",
    "df[\"prediction_catboost\"] = df[\"prediction_catboost\"]*1"
   ]
  },
  {
   "cell_type": "code",
   "execution_count": null,
   "metadata": {},
   "outputs": [
    {
     "name": "stdout",
     "output_type": "stream",
     "text": [
      "0.5057028427147272\n"
     ]
    },
    {
     "data": {
      "image/png": "[encoded data removed]",
      "text/plain": [
       "<Figure size 700x700 with 1 Axes>"
      ]
     },
     "metadata": {},
     "output_type": "display_data"
    }
   ],
   "source": [
    "# fig_conf= print_metrics(df[\"Duplicate(Y/N)\"],df[\"prediction_catboost\"])"
   ]
  },
  {
   "cell_type": "code",
   "execution_count": 95,
   "metadata": {},
   "outputs": [],
   "source": [
    "df.to_csv(\"/workspace/Manual_Verification_Dedup_POIs_Final1.csv\",index=None)"
   ]
  },
  {
   "cell_type": "code",
   "execution_count": null,
   "metadata": {},
   "outputs": [],
   "source": []
  }
 ],
 "metadata": {
  "kernelspec": {
   "display_name": "rapids",
   "language": "python",
   "name": "python3"
  },
  "language_info": {
   "codemirror_mode": {
    "name": "ipython",
    "version": 3
   },
   "file_extension": ".py",
   "mimetype": "text/x-python",
   "name": "python",
   "nbconvert_exporter": "python",
   "pygments_lexer": "ipython3",
   "version": "3.8.15"
  },
  "orig_nbformat": 4,
  "vscode": {
   "interpreter": {
    "hash": "f708a36acfaef0acf74ccd43dfb58100269bf08fb79032a1e0a6f35bd9856f51"
   }
  }
 },
 "nbformat": 4,
 "nbformat_minor": 2
}
