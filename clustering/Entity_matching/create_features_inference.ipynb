{
 "cells": [
  {
   "cell_type": "markdown",
   "metadata": {},
   "source": [
    "# Import packages and data"
   ]
  },
  {
   "cell_type": "code",
   "execution_count": 21,
   "metadata": {},
   "outputs": [],
   "source": [
    "\n",
    "import pandas as pd\n",
    "import numpy as np\n",
    "from utils.create_features import jaro, WRatio, ratio, davies, token_set_ratio, add_lat_lon_distance_features, strike_a_match, leven\n",
    "from utils.features_utils import name_distance, extract_directions, is_direction_match, name_number_match,\\\n",
    "    is_related_cat, category_match, clean_email, sub_category_match, brand_match, house_match, email_url_match, phone_lcs,phone_category\n",
    "from Config import config\n",
    "import glob\n",
    "import torch"
   ]
  },
  {
   "cell_type": "code",
   "execution_count": 22,
   "metadata": {},
   "outputs": [],
   "source": [
    "df = pd.read_csv(config.input_dir + f\"Fuse_exploded_{config.country}_cleaned.csv\",engine='c',dtype={\"postalCode\": \"str\", \"houseNumber\": \"str\"})"
   ]
  },
  {
   "cell_type": "code",
   "execution_count": 23,
   "metadata": {},
   "outputs": [],
   "source": [
    "file_list = glob.glob(\n",
    "    config.output_stage1 + f\"batch_candidates/{config.country}_parquet/*.parquet\"\n",
    ")"
   ]
  },
  {
   "cell_type": "code",
   "execution_count": 24,
   "metadata": {},
   "outputs": [],
   "source": [
    "df_pairs = pd.DataFrame()\n",
    "for file in file_list:\n",
    "    df1 = pd.read_parquet(file,engine='fastparquet')\n",
    "    df_pairs = pd.concat([df_pairs,df1])"
   ]
  },
  {
   "cell_type": "code",
   "execution_count": 25,
   "metadata": {},
   "outputs": [
    {
     "data": {
      "text/html": [
       "<div>\n",
       "<style scoped>\n",
       "    .dataframe tbody tr th:only-of-type {\n",
       "        vertical-align: middle;\n",
       "    }\n",
       "\n",
       "    .dataframe tbody tr th {\n",
       "        vertical-align: top;\n",
       "    }\n",
       "\n",
       "    .dataframe thead th {\n",
       "        text-align: right;\n",
       "    }\n",
       "</style>\n",
       "<table border=\"1\" class=\"dataframe\">\n",
       "  <thead>\n",
       "    <tr style=\"text-align: right;\">\n",
       "      <th></th>\n",
       "      <th>ltable_id</th>\n",
       "      <th>rtable_id</th>\n",
       "      <th>placeId1</th>\n",
       "      <th>placeId2</th>\n",
       "    </tr>\n",
       "  </thead>\n",
       "  <tbody>\n",
       "    <tr>\n",
       "      <th>0</th>\n",
       "      <td>16284</td>\n",
       "      <td>17245</td>\n",
       "      <td>efc64577-435d-4569-bdd8-094fb2b4d8a7</td>\n",
       "      <td>463c7723-b5a2-44c0-a62a-b5826cd470f2</td>\n",
       "    </tr>\n",
       "    <tr>\n",
       "      <th>1</th>\n",
       "      <td>5290</td>\n",
       "      <td>17690</td>\n",
       "      <td>f33d9b88-d0a3-452e-bca7-061c53e9a69b</td>\n",
       "      <td>944d0537-8c1a-4bf3-87a5-282b9a0e5ba3</td>\n",
       "    </tr>\n",
       "    <tr>\n",
       "      <th>2</th>\n",
       "      <td>6549</td>\n",
       "      <td>15895</td>\n",
       "      <td>b54a972a-e9d3-4192-9448-e92c30f4ca13</td>\n",
       "      <td>3bd8ba6e-fa2e-49d2-a7e3-722460c6bc98</td>\n",
       "    </tr>\n",
       "    <tr>\n",
       "      <th>3</th>\n",
       "      <td>6484</td>\n",
       "      <td>15211</td>\n",
       "      <td>500069d8-b079-40e4-b8c3-4603d7852dbe</td>\n",
       "      <td>82f388c4-02be-46bf-9269-2e9fe4de6a2f</td>\n",
       "    </tr>\n",
       "    <tr>\n",
       "      <th>4</th>\n",
       "      <td>13359</td>\n",
       "      <td>15509</td>\n",
       "      <td>61d1317e-9bf0-42ab-8079-11664c1081fe</td>\n",
       "      <td>8c98a735-9177-4014-8b8f-508b486cc7fa</td>\n",
       "    </tr>\n",
       "  </tbody>\n",
       "</table>\n",
       "</div>"
      ],
      "text/plain": [
       "   ltable_id  rtable_id                              placeId1  \\\n",
       "0      16284      17245  efc64577-435d-4569-bdd8-094fb2b4d8a7   \n",
       "1       5290      17690  f33d9b88-d0a3-452e-bca7-061c53e9a69b   \n",
       "2       6549      15895  b54a972a-e9d3-4192-9448-e92c30f4ca13   \n",
       "3       6484      15211  500069d8-b079-40e4-b8c3-4603d7852dbe   \n",
       "4      13359      15509  61d1317e-9bf0-42ab-8079-11664c1081fe   \n",
       "\n",
       "                               placeId2  \n",
       "0  463c7723-b5a2-44c0-a62a-b5826cd470f2  \n",
       "1  944d0537-8c1a-4bf3-87a5-282b9a0e5ba3  \n",
       "2  3bd8ba6e-fa2e-49d2-a7e3-722460c6bc98  \n",
       "3  82f388c4-02be-46bf-9269-2e9fe4de6a2f  \n",
       "4  8c98a735-9177-4014-8b8f-508b486cc7fa  "
      ]
     },
     "execution_count": 25,
     "metadata": {},
     "output_type": "execute_result"
    }
   ],
   "source": [
    "df_pairs.head()"
   ]
  },
  {
   "cell_type": "code",
   "execution_count": 26,
   "metadata": {},
   "outputs": [],
   "source": [
    "df_pairs = pd.merge(df_pairs, df,  how='left', left_on=[\n",
    "                'ltable_id'], right_on=['Id'])\n",
    "df_pairs.drop('placeId',inplace=True,axis=1)\n",
    "df_pairs = pd.merge(df_pairs, df,  how='left', left_on=[\n",
    "                    'rtable_id'], right_on=['Id'],suffixes=[\"1\",\"2\"])\n",
    "\n",
    "df_pairs.drop('placeId',inplace=True,axis=1)"
   ]
  },
  {
   "cell_type": "code",
   "execution_count": 27,
   "metadata": {},
   "outputs": [],
   "source": [
    "cols = ['country', 'placeId1', 'placeId2', 'sourceNames1', 'sourceNames2',\n",
    "       'category1', 'category2', 'brands1', 'brands2', 'email1', 'email2',\n",
    "       'latitude1', 'longitude1', 'latitude2', 'longitude2', 'houseNumber1',\n",
    "       'houseNumber2', 'streets1', 'streets2', 'cities1', 'cities2',\n",
    "       'subCategory1', 'subCategory2', 'phoneNumbers1', 'phoneNumbers2',\n",
    "       'internet1', 'internet2', 'postalCode1', 'postalCode2']"
   ]
  },
  {
   "cell_type": "code",
   "execution_count": 28,
   "metadata": {},
   "outputs": [],
   "source": [
    "df_pairs[\"phoneNumbers1\"] = df_pairs[\"phoneNumbers1\"].apply(eval)\n",
    "df_pairs[\"phoneNumbers2\"] = df_pairs[\"phoneNumbers2\"].apply(eval)"
   ]
  },
  {
   "cell_type": "code",
   "execution_count": 29,
   "metadata": {},
   "outputs": [
    {
     "data": {
      "text/plain": [
       "(10933, 38)"
      ]
     },
     "execution_count": 29,
     "metadata": {},
     "output_type": "execute_result"
    }
   ],
   "source": [
    "df_pairs.shape"
   ]
  },
  {
   "cell_type": "markdown",
   "metadata": {},
   "source": [
    "# Create Features"
   ]
  },
  {
   "cell_type": "code",
   "execution_count": 30,
   "metadata": {},
   "outputs": [
    {
     "data": {
      "application/vnd.jupyter.widget-view+json": {
       "model_id": "ceaf9783625e4325a9f1f623213336d7",
       "version_major": 2,
       "version_minor": 0
      },
      "text/plain": [
       "  0%|          | 0/1 [00:00<?, ?it/s]"
      ]
     },
     "metadata": {},
     "output_type": "display_data"
    },
    {
     "data": {
      "application/vnd.jupyter.widget-view+json": {
       "model_id": "00eb9a2b36444f1dbe03fe6baa4a7c7e",
       "version_major": 2,
       "version_minor": 0
      },
      "text/plain": [
       "Batches:   0%|          | 0/171 [00:00<?, ?it/s]"
      ]
     },
     "metadata": {},
     "output_type": "display_data"
    }
   ],
   "source": [
    "# with torch.cuda.amp.autocast(enabled=True):\n",
    "similarity = name_distance(list(df_pairs[\"sourceNames1\"]),list(df_pairs[\"sourceNames2\"]))\n",
    "df_pairs[\"similarity\"] = similarity"
   ]
  },
  {
   "cell_type": "code",
   "execution_count": 31,
   "metadata": {},
   "outputs": [],
   "source": [
    "df_pairs = add_lat_lon_distance_features(df_pairs)"
   ]
  },
  {
   "cell_type": "code",
   "execution_count": 32,
   "metadata": {},
   "outputs": [],
   "source": [
    "df_pairs[\"direction1\"] = df_pairs[\"sourceNames1\"].apply(extract_directions)\n",
    "df_pairs[\"direction2\"] = df_pairs[\"sourceNames2\"].apply(extract_directions)\n",
    "df_pairs['Is_direction_match'] = df_pairs.apply(lambda x: is_direction_match(x.direction1, x.direction2), axis=1)\n"
   ]
  },
  {
   "cell_type": "code",
   "execution_count": 33,
   "metadata": {},
   "outputs": [],
   "source": [
    "df_pairs[\"name1_number\"] = df_pairs[\"sourceNames1\"].str.extract('(\\d+)')\n",
    "df_pairs[\"name2_number\"] = df_pairs[\"sourceNames2\"].str.extract('(\\d+)')\n",
    "df_pairs['Is_name_number_match'] = df_pairs.apply(lambda x: name_number_match(x.name1_number, x.name2_number), axis=1)"
   ]
  },
  {
   "cell_type": "code",
   "execution_count": 34,
   "metadata": {},
   "outputs": [],
   "source": [
    "df_pairs['Is_related_cat'] = df_pairs.apply(lambda x: is_related_cat(x.category1, x.category2), axis=1)\n",
    "df_pairs['Is_category_match'] = df_pairs.apply(lambda x: category_match(x.category1, x.category2), axis=1)\n",
    "df_pairs['Is_subcategory_match'] = df_pairs.apply(lambda x: sub_category_match(x.subCategory1, x.subCategory2), axis=1)"
   ]
  },
  {
   "cell_type": "code",
   "execution_count": 35,
   "metadata": {},
   "outputs": [],
   "source": [
    "df_pairs['Is_brand_match'] = df_pairs.apply(lambda x: brand_match(x.brands1, x.brands2), axis=1)\n",
    "df_pairs['Is_house_match'] = df_pairs.apply(lambda x: house_match(x.houseNumber1, x.houseNumber2), axis=1)\n",
    "df_pairs['is_phone_match'] = df_pairs.apply(lambda x: phone_category(x.phoneNumbers1, x.phoneNumbers2), axis=1)"
   ]
  },
  {
   "cell_type": "code",
   "execution_count": 36,
   "metadata": {},
   "outputs": [],
   "source": [
    "df_pairs['Is_email_match'] = df_pairs.apply(lambda x: email_url_match(x.email1, x.email2), axis=1)\n",
    "df_pairs['Is_url_match'] = df_pairs.apply(lambda x: email_url_match(x.internet1, x.internet2), axis=1)\n"
   ]
  },
  {
   "cell_type": "code",
   "execution_count": 37,
   "metadata": {},
   "outputs": [],
   "source": [
    "df_pairs['name_davies'] = df_pairs.apply(lambda x: davies(x.sourceNames1, x.sourceNames2), axis=1)\n",
    "df_pairs['name_leven'] = df_pairs.apply(lambda x: leven(x.sourceNames1, x.sourceNames2), axis=1)\n",
    "df_pairs['name_dice'] = df_pairs.apply(lambda x: strike_a_match(x.sourceNames1, x.sourceNames2), axis=1)\n",
    "df_pairs['name_jaro'] = df_pairs.apply(lambda x: jaro(x.sourceNames1, x.sourceNames2), axis=1)\n",
    "df_pairs['name_set_ratio'] = df_pairs.apply(lambda x: token_set_ratio(x.sourceNames1, x.sourceNames2), axis=1)"
   ]
  },
  {
   "cell_type": "code",
   "execution_count": 38,
   "metadata": {},
   "outputs": [],
   "source": [
    "df_pairs['street_davies'] = df_pairs.apply(lambda x: davies(x.streets1, x.streets2), axis=1)\n",
    "df_pairs['street_leven'] = df_pairs.apply(lambda x: leven(x.streets1, x.streets2), axis=1)\n",
    "df_pairs['street_jaro'] = df_pairs.apply(lambda x: jaro(x.streets1, x.streets2), axis=1)"
   ]
  },
  {
   "cell_type": "code",
   "execution_count": 39,
   "metadata": {},
   "outputs": [],
   "source": [
    "df_pairs['email_davies'] = df_pairs.apply(lambda x: davies(x.email1, x.email2), axis=1)\n",
    "df_pairs['email_leven'] = df_pairs.apply(lambda x: leven(x.email1, x.email2), axis=1)\n",
    "df_pairs['email_jaro'] = df_pairs.apply(lambda x: jaro(x.email1, x.email2), axis=1)"
   ]
  },
  {
   "cell_type": "code",
   "execution_count": 40,
   "metadata": {},
   "outputs": [],
   "source": [
    "df_pairs['url_davies'] = df_pairs.apply(lambda x: davies(x.internet1, x.internet2), axis=1)\n",
    "df_pairs['url_leven'] = df_pairs.apply(lambda x: leven(x.internet1, x.internet2), axis=1)\n",
    "df_pairs['url_jaro'] = df_pairs.apply(lambda x: jaro(x.internet1, x.internet2), axis=1)"
   ]
  },
  {
   "cell_type": "code",
   "execution_count": 41,
   "metadata": {},
   "outputs": [],
   "source": [
    "df_pairs['brands_davies'] = df_pairs.apply(lambda x: davies(x.brands1, x.brands2), axis=1)\n",
    "df_pairs['brand_leven'] = df_pairs.apply(lambda x: leven(x.brands1, x.brands2), axis=1)\n",
    "df_pairs['brand_jaro'] = df_pairs.apply(lambda x: jaro(x.brands1, x.brands2), axis=1)"
   ]
  },
  {
   "cell_type": "code",
   "execution_count": 42,
   "metadata": {},
   "outputs": [],
   "source": [
    "df_pairs['phone_lcs'] = df_pairs.apply(lambda x: phone_lcs(x.phoneNumbers1, x.phoneNumbers2), axis=1)\n",
    "df_pairs['subcat_WRatio'] = df_pairs.apply(lambda x: WRatio(x.subCategory1, x.subCategory2), axis=1)\n",
    "df_pairs['subcat_ratio'] = df_pairs.apply(lambda x: ratio(x.subCategory1, x.subCategory2), axis=1)\n",
    "df_pairs['subcat_token_set_ratio'] = df_pairs.apply(lambda x: token_set_ratio(x.subCategory1, x.subCategory2), axis=1)"
   ]
  },
  {
   "cell_type": "code",
   "execution_count": 43,
   "metadata": {},
   "outputs": [],
   "source": [
    "cat_columns = [\n",
    "    'Is_direction_match', 'Is_house_match', 'Is_category_match',\n",
    "    'Is_subcategory_match', 'Is_brand_match', 'Is_related_cat',\n",
    "    'Is_name_number_match', 'is_phone_match', 'Is_email_match', 'Is_url_match'\n",
    "]\n"
   ]
  },
  {
   "cell_type": "code",
   "execution_count": 44,
   "metadata": {},
   "outputs": [],
   "source": [
    "df_pairs = pd.get_dummies(df_pairs, columns = cat_columns)"
   ]
  },
  {
   "cell_type": "code",
   "execution_count": 45,
   "metadata": {},
   "outputs": [],
   "source": [
    "cols = [\n",
    "    'country', 'placeId1', 'placeId2', 'sourceNames1', 'sourceNames2',\n",
    "    'category1', 'category2', 'brands1', 'brands2', 'email1', 'email2',\n",
    "    'latitude1', 'longitude1', 'latitude2', 'longitude2', 'houseNumber1',\n",
    "    'houseNumber2', 'streets1', 'streets2', 'cities1', 'cities2',\n",
    "    'subCategory1', 'subCategory2', 'phoneNumbers1', 'phoneNumbers2',\n",
    "    'internet1', 'internet2', 'postalCode1', 'postalCode2', 'similarity',\n",
    "    'haversine', 'name_davies', 'name_leven', 'name_dice', 'name_jaro',\n",
    "    'name_set_ratio', 'street_davies', 'street_leven', 'street_jaro',\n",
    "    'email_davies', 'email_leven', 'email_jaro', 'url_davies', 'url_leven',\n",
    "    'url_jaro', 'brands_davies', 'brand_leven', 'brand_jaro', 'phone_lcs',\n",
    "    'subcat_WRatio', 'subcat_ratio', 'subcat_token_set_ratio',\n",
    "    'Is_direction_match_0', 'Is_direction_match_1', 'Is_direction_match_2',\n",
    "    'Is_house_match_0', 'Is_house_match_1', 'Is_house_match_2',\n",
    "    'Is_category_match_0', 'Is_category_match_1', 'Is_subcategory_match_0',\n",
    "    'Is_subcategory_match_1', 'Is_subcategory_match_2', 'Is_brand_match_0',\n",
    "    'Is_brand_match_1', 'Is_brand_match_2', 'Is_brand_match_3',\n",
    "    'Is_related_cat_0', 'Is_related_cat_1', 'Is_name_number_match_0',\n",
    "    'Is_name_number_match_1', 'Is_name_number_match_2',\n",
    "    'Is_name_number_match_3', 'is_phone_match_1', 'is_phone_match_2',\n",
    "    'is_phone_match_3', 'is_phone_match_4', 'Is_email_match_0',\n",
    "    'Is_email_match_1', 'Is_email_match_2', 'Is_url_match_0', 'Is_url_match_1',\n",
    "    'Is_url_match_2'\n",
    "]\n"
   ]
  },
  {
   "cell_type": "code",
   "execution_count": 46,
   "metadata": {},
   "outputs": [],
   "source": [
    "df_pairs[\"country\"] = config.country"
   ]
  },
  {
   "cell_type": "code",
   "execution_count": 47,
   "metadata": {},
   "outputs": [],
   "source": [
    "df_pairs[\"Is_direction_match_0\"] = 0\n",
    "df_pairs[\"is_phone_match_4\"] = 0"
   ]
  },
  {
   "cell_type": "code",
   "execution_count": 49,
   "metadata": {},
   "outputs": [],
   "source": [
    "df_pairs[cols].to_parquet(\n",
    "    config.root_dir\n",
    "    + f\"outputs/df_pairs_features_{config.country}_{config.COSINE_NEIGHBORS}.parquet\",\n",
    "    compression=\"zstd\",\n",
    "    index=None,\n",
    ")"
   ]
  }
 ],
 "metadata": {
  "kernelspec": {
   "display_name": "rapids",
   "language": "python",
   "name": "python3"
  },
  "language_info": {
   "codemirror_mode": {
    "name": "ipython",
    "version": 3
   },
   "file_extension": ".py",
   "mimetype": "text/x-python",
   "name": "python",
   "nbconvert_exporter": "python",
   "pygments_lexer": "ipython3",
   "version": "3.8.15"
  },
  "orig_nbformat": 4,
  "vscode": {
   "interpreter": {
    "hash": "f708a36acfaef0acf74ccd43dfb58100269bf08fb79032a1e0a6f35bd9856f51"
   }
  }
 },
 "nbformat": 4,
 "nbformat_minor": 2
}
