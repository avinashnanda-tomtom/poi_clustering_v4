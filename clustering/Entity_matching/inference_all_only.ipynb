{
 "cells": [
  {
   "cell_type": "code",
   "execution_count": 1,
   "metadata": {},
   "outputs": [],
   "source": [
    "import pandas as pd\n",
    "import numpy as np\n",
    "from utils.forest_infer import pred_multi\n",
    "from utils.metrics import print_metrics\n",
    "import glob\n",
    "from tqdm import tqdm\n",
    "from utils.forest_infer import pred_multi\n",
    "from xgboost import XGBClassifier\n",
    "import gc\n",
    "from catboost import CatBoostClassifier"
   ]
  },
  {
   "cell_type": "code",
   "execution_count": 2,
   "metadata": {},
   "outputs": [],
   "source": [
    "df_pairs = pd.read_parquet(\"/workspace/clustering/outputs/df_pairs_features_NLD_30.parquet\")"
   ]
  },
  {
   "cell_type": "code",
   "execution_count": 3,
   "metadata": {},
   "outputs": [],
   "source": [
    "features = ['similarity', 'haversine', 'name_davies',\n",
    "       'name_leven', 'name_dice', 'name_jaro', 'name_set_ratio',\n",
    "       'street_davies', 'street_leven', 'street_jaro', 'email_davies',\n",
    "       'email_leven', 'email_jaro', 'url_davies', 'url_leven', 'url_jaro',\n",
    "       'brands_davies', 'brand_leven', 'brand_jaro', 'phone_lcs',\n",
    "       'subcat_WRatio', 'subcat_ratio', 'subcat_token_set_ratio',\n",
    "       'Is_direction_match_0', 'Is_direction_match_1', 'Is_direction_match_2',\n",
    "       'Is_house_match_0', 'Is_house_match_1', 'Is_house_match_2',\n",
    "       'Is_category_match_0', 'Is_category_match_1', 'Is_subcategory_match_0',\n",
    "       'Is_subcategory_match_1', 'Is_subcategory_match_2', 'Is_brand_match_0',\n",
    "       'Is_brand_match_1', 'Is_brand_match_2', 'Is_brand_match_3',\n",
    "       'Is_related_cat_0', 'Is_related_cat_1', 'Is_name_number_match_0',\n",
    "       'Is_name_number_match_1', 'Is_name_number_match_2',\n",
    "       'Is_name_number_match_3', 'is_phone_match_1', 'is_phone_match_2',\n",
    "       'is_phone_match_3', 'is_phone_match_4', 'Is_email_match_0',\n",
    "       'Is_email_match_1', 'Is_email_match_2', 'Is_url_match_0',\n",
    "       'Is_url_match_1', 'Is_url_match_2']"
   ]
  },
  {
   "cell_type": "markdown",
   "metadata": {},
   "source": [
    "# Lightgbm inference"
   ]
  },
  {
   "cell_type": "code",
   "execution_count": 4,
   "metadata": {},
   "outputs": [],
   "source": [
    "models = glob.glob(f\"/workspace/clustering/Entity_matching/models/model_duplicate_gsplit_lgb*\")"
   ]
  },
  {
   "cell_type": "code",
   "execution_count": 5,
   "metadata": {},
   "outputs": [
    {
     "name": "stderr",
     "output_type": "stream",
     "text": [
      "  0%|          | 0/5 [00:00<?, ?it/s]"
     ]
    },
    {
     "name": "stdout",
     "output_type": "stream",
     "text": [
      "[W] [17:15:26.987633] Treelite currently does not support float64 model parameters. Accuracy may degrade slightly relative to native LightGBM invocation.\n"
     ]
    },
    {
     "data": {
      "application/vnd.jupyter.widget-view+json": {
       "model_id": "18835aa8540f4d36a043d0dd048e8ac9",
       "version_major": 2,
       "version_minor": 0
      },
      "text/plain": [
       "  0%|          | 0/22 [00:00<?, ?it/s]"
      ]
     },
     "metadata": {},
     "output_type": "display_data"
    },
    {
     "name": "stderr",
     "output_type": "stream",
     "text": [
      " 20%|██        | 1/5 [00:08<00:35,  8.77s/it]"
     ]
    },
    {
     "name": "stdout",
     "output_type": "stream",
     "text": [
      "[W] [17:15:27.413102] Treelite currently does not support float64 model parameters. Accuracy may degrade slightly relative to native LightGBM invocation.\n"
     ]
    },
    {
     "data": {
      "application/vnd.jupyter.widget-view+json": {
       "model_id": "33518a2bfe204d20958640e609e1d9d1",
       "version_major": 2,
       "version_minor": 0
      },
      "text/plain": [
       "  0%|          | 0/22 [00:00<?, ?it/s]"
      ]
     },
     "metadata": {},
     "output_type": "display_data"
    },
    {
     "name": "stderr",
     "output_type": "stream",
     "text": [
      " 40%|████      | 2/5 [00:09<00:11,  3.79s/it]"
     ]
    },
    {
     "name": "stdout",
     "output_type": "stream",
     "text": [
      "[W] [17:15:27.720396] Treelite currently does not support float64 model parameters. Accuracy may degrade slightly relative to native LightGBM invocation.\n"
     ]
    },
    {
     "data": {
      "application/vnd.jupyter.widget-view+json": {
       "model_id": "d887097b090d4a12927c6c198803ad63",
       "version_major": 2,
       "version_minor": 0
      },
      "text/plain": [
       "  0%|          | 0/22 [00:00<?, ?it/s]"
      ]
     },
     "metadata": {},
     "output_type": "display_data"
    },
    {
     "name": "stderr",
     "output_type": "stream",
     "text": [
      " 60%|██████    | 3/5 [00:09<00:04,  2.19s/it]"
     ]
    },
    {
     "name": "stdout",
     "output_type": "stream",
     "text": [
      "[W] [17:15:27.993631] Treelite currently does not support float64 model parameters. Accuracy may degrade slightly relative to native LightGBM invocation.\n"
     ]
    },
    {
     "data": {
      "application/vnd.jupyter.widget-view+json": {
       "model_id": "6252a44e6e464ac6beb4c4ebd84f6247",
       "version_major": 2,
       "version_minor": 0
      },
      "text/plain": [
       "  0%|          | 0/22 [00:00<?, ?it/s]"
      ]
     },
     "metadata": {},
     "output_type": "display_data"
    },
    {
     "name": "stderr",
     "output_type": "stream",
     "text": [
      " 80%|████████  | 4/5 [00:09<00:01,  1.43s/it]"
     ]
    },
    {
     "name": "stdout",
     "output_type": "stream",
     "text": [
      "[W] [17:15:28.260274] Treelite currently does not support float64 model parameters. Accuracy may degrade slightly relative to native LightGBM invocation.\n"
     ]
    },
    {
     "data": {
      "application/vnd.jupyter.widget-view+json": {
       "model_id": "f4b798b36e06498d967d2092ace3c7eb",
       "version_major": 2,
       "version_minor": 0
      },
      "text/plain": [
       "  0%|          | 0/22 [00:00<?, ?it/s]"
      ]
     },
     "metadata": {},
     "output_type": "display_data"
    },
    {
     "name": "stderr",
     "output_type": "stream",
     "text": [
      "100%|██████████| 5/5 [00:09<00:00,  1.98s/it]\n"
     ]
    }
   ],
   "source": [
    "all_pred = []\n",
    "for model_file in tqdm(models):\n",
    "    prediction = pred_multi(model_file,df_pairs[features])\n",
    "    all_pred.append(prediction)\n",
    "    \n",
    "all_pred = np.array(all_pred)\n",
    "pred = np.mean(all_pred, axis=0)\n",
    "df_pairs[\"prediction_lgb_probab\"] = pred\n",
    "df_pairs[\"prediction_lgb\"] = pred>0.5\n",
    "df_pairs[\"prediction_lgb\"] = df_pairs[\"prediction_lgb\"]*1"
   ]
  },
  {
   "cell_type": "markdown",
   "metadata": {},
   "source": [
    "# Xgboost inference"
   ]
  },
  {
   "cell_type": "code",
   "execution_count": 6,
   "metadata": {},
   "outputs": [],
   "source": [
    "models = glob.glob(f\"/workspace/clustering/Entity_matching/models/xgboost_dedup_v2_*\")"
   ]
  },
  {
   "cell_type": "code",
   "execution_count": 7,
   "metadata": {},
   "outputs": [],
   "source": [
    "def pred_multi_xgb(model_file,df):\n",
    "    xgb_model = XGBClassifier()\n",
    "    xgb_model.load_model(model_file)\n",
    "    prediction = xgb_model.predict_proba(df)[:, 1]\n",
    "    del xgb_model\n",
    "    gc.collect()\n",
    "    return prediction"
   ]
  },
  {
   "cell_type": "code",
   "execution_count": 8,
   "metadata": {},
   "outputs": [
    {
     "name": "stderr",
     "output_type": "stream",
     "text": [
      "100%|██████████| 5/5 [00:02<00:00,  2.45it/s]\n"
     ]
    }
   ],
   "source": [
    "all_pred = []\n",
    "for model_file in tqdm(models):\n",
    "    prediction = pred_multi_xgb(model_file,df_pairs[features])\n",
    "    all_pred.append(prediction)\n",
    "    \n",
    "all_pred = np.array(all_pred)\n",
    "pred = np.mean(all_pred, axis=0)\n",
    "df_pairs[\"prediction_xgb_probab\"] = pred\n",
    "df_pairs[\"prediction_xgb\"] = pred>0.5\n",
    "df_pairs[\"prediction_xgb\"] = df_pairs[\"prediction_xgb\"]*1"
   ]
  },
  {
   "cell_type": "markdown",
   "metadata": {},
   "source": [
    "# catboost inference"
   ]
  },
  {
   "cell_type": "code",
   "execution_count": 9,
   "metadata": {},
   "outputs": [],
   "source": [
    "models = glob.glob(f\"/workspace/clustering/Entity_matching/models/catboost_dedup_*\")"
   ]
  },
  {
   "cell_type": "code",
   "execution_count": 10,
   "metadata": {},
   "outputs": [],
   "source": [
    "def pred_multi_catboost(model_file,df):\n",
    "    xgb_model = CatBoostClassifier()\n",
    "    xgb_model.load_model(model_file)\n",
    "    prediction = xgb_model.predict_proba(df)[:, 1]\n",
    "    del xgb_model\n",
    "    gc.collect()\n",
    "    return prediction"
   ]
  },
  {
   "cell_type": "code",
   "execution_count": 11,
   "metadata": {},
   "outputs": [
    {
     "name": "stderr",
     "output_type": "stream",
     "text": [
      "100%|██████████| 5/5 [00:01<00:00,  4.40it/s]\n"
     ]
    }
   ],
   "source": [
    "all_pred = []\n",
    "for model_file in tqdm(models):\n",
    "    prediction = pred_multi_catboost(model_file,df_pairs[features])\n",
    "    all_pred.append(prediction)\n",
    "    \n",
    "all_pred = np.array(all_pred)\n",
    "pred = np.mean(all_pred, axis=0)\n",
    "df_pairs[\"prediction_catboost_probab\"] = pred\n",
    "df_pairs[\"prediction_catboost\"] = pred>0.5\n",
    "df_pairs[\"prediction_catboost\"] = df_pairs[\"prediction_catboost\"]*1"
   ]
  },
  {
   "cell_type": "code",
   "execution_count": 12,
   "metadata": {},
   "outputs": [
    {
     "data": {
      "text/plain": [
       "Index(['country', 'placeId1', 'placeId2', 'sourceNames1', 'sourceNames2',\n",
       "       'category1', 'category2', 'brands1', 'brands2', 'email1', 'email2',\n",
       "       'latitude1', 'longitude1', 'latitude2', 'longitude2', 'houseNumber1',\n",
       "       'houseNumber2', 'streets1', 'streets2', 'cities1', 'cities2',\n",
       "       'subCategory1', 'subCategory2', 'phoneNumbers1', 'phoneNumbers2',\n",
       "       'internet1', 'internet2', 'postalCode1', 'postalCode2', 'similarity',\n",
       "       'haversine', 'name_davies', 'name_leven', 'name_dice', 'name_jaro',\n",
       "       'name_set_ratio', 'street_davies', 'street_leven', 'street_jaro',\n",
       "       'email_davies', 'email_leven', 'email_jaro', 'url_davies', 'url_leven',\n",
       "       'url_jaro', 'brands_davies', 'brand_leven', 'brand_jaro', 'phone_lcs',\n",
       "       'subcat_WRatio', 'subcat_ratio', 'subcat_token_set_ratio',\n",
       "       'Is_direction_match_0', 'Is_direction_match_1', 'Is_direction_match_2',\n",
       "       'Is_house_match_0', 'Is_house_match_1', 'Is_house_match_2',\n",
       "       'Is_category_match_0', 'Is_category_match_1', 'Is_subcategory_match_0',\n",
       "       'Is_subcategory_match_1', 'Is_subcategory_match_2', 'Is_brand_match_0',\n",
       "       'Is_brand_match_1', 'Is_brand_match_2', 'Is_brand_match_3',\n",
       "       'Is_related_cat_0', 'Is_related_cat_1', 'Is_name_number_match_0',\n",
       "       'Is_name_number_match_1', 'Is_name_number_match_2',\n",
       "       'Is_name_number_match_3', 'is_phone_match_1', 'is_phone_match_2',\n",
       "       'is_phone_match_3', 'is_phone_match_4', 'Is_email_match_0',\n",
       "       'Is_email_match_1', 'Is_email_match_2', 'Is_url_match_0',\n",
       "       'Is_url_match_1', 'Is_url_match_2', 'prediction_lgb_probab',\n",
       "       'prediction_lgb', 'prediction_xgb_probab', 'prediction_xgb',\n",
       "       'prediction_catboost_probab', 'prediction_catboost'],\n",
       "      dtype='object')"
      ]
     },
     "execution_count": 12,
     "metadata": {},
     "output_type": "execute_result"
    }
   ],
   "source": [
    "df_pairs.columns"
   ]
  },
  {
   "cell_type": "code",
   "execution_count": 14,
   "metadata": {},
   "outputs": [],
   "source": [
    "df_pairs[(df_pairs[\"prediction_xgb\"]==1)  & (df_pairs[\"prediction_lgb\"]==1)  & (df_pairs[\"prediction_catboost\"]==1)].to_csv(\"/workspace/nzl_duplicate.csv\",index=None)"
   ]
  },
  {
   "cell_type": "code",
   "execution_count": null,
   "metadata": {},
   "outputs": [],
   "source": []
  },
  {
   "cell_type": "code",
   "execution_count": 13,
   "metadata": {},
   "outputs": [
    {
     "data": {
      "text/plain": [
       "(257513, 89)"
      ]
     },
     "execution_count": 13,
     "metadata": {},
     "output_type": "execute_result"
    }
   ],
   "source": [
    "df_pairs[(df_pairs[\"prediction_xgb\"]==1)  & (df_pairs[\"prediction_lgb\"]==1)  & (df_pairs[\"prediction_catboost\"]==1)].shape"
   ]
  },
  {
   "cell_type": "code",
   "execution_count": 1,
   "metadata": {},
   "outputs": [],
   "source": [
    "import pandas as pd"
   ]
  },
  {
   "cell_type": "code",
   "execution_count": 2,
   "metadata": {},
   "outputs": [],
   "source": [
    "df_pairs = pd.read_csv(\"/workspace/nzl_duplicate.csv\")"
   ]
  },
  {
   "cell_type": "code",
   "execution_count": 3,
   "metadata": {},
   "outputs": [],
   "source": [
    "df_pairs[\"prediction_catboost\"] = df_pairs[\"prediction_catboost_probab\"]>=0.9\n",
    "df_pairs[\"prediction_catboost\"] = df_pairs[\"prediction_catboost\"]*1\n",
    "df_pairs[\"prediction_xgb\"] = df_pairs[\"prediction_xgb\"]>=0.9\n",
    "df_pairs[\"prediction_xgb\"] = df_pairs[\"prediction_xgb\"]*1\n",
    "df_pairs[\"prediction_lgb\"] = df_pairs[\"prediction_lgb_probab\"]>=0.9\n",
    "df_pairs[\"prediction_lgb\"] = df_pairs[\"prediction_lgb\"]*1"
   ]
  },
  {
   "cell_type": "code",
   "execution_count": 4,
   "metadata": {},
   "outputs": [],
   "source": [
    "df_pairs[(df_pairs[\"prediction_xgb\"]==1)  & (df_pairs[\"prediction_lgb\"]==1)  & (df_pairs[\"prediction_catboost\"]==1)].to_csv(\"/workspace/nzl_duplicate_0.9.csv\",index=None)"
   ]
  }
 ],
 "metadata": {
  "kernelspec": {
   "display_name": "rapids",
   "language": "python",
   "name": "python3"
  },
  "language_info": {
   "codemirror_mode": {
    "name": "ipython",
    "version": 3
   },
   "file_extension": ".py",
   "mimetype": "text/x-python",
   "name": "python",
   "nbconvert_exporter": "python",
   "pygments_lexer": "ipython3",
   "version": "3.8.15"
  },
  "orig_nbformat": 4,
  "vscode": {
   "interpreter": {
    "hash": "f708a36acfaef0acf74ccd43dfb58100269bf08fb79032a1e0a6f35bd9856f51"
   }
  }
 },
 "nbformat": 4,
 "nbformat_minor": 2
}
