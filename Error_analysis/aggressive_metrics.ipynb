{
 "cells": [
  {
   "cell_type": "code",
   "execution_count": 3,
   "id": "3449d65d-2ee8-46ef-8f01-901ca12d097b",
   "metadata": {},
   "outputs": [],
   "source": [
    "import pandas as pd\n",
    "from haversine import haversine\n",
    "import rapidfuzz\n",
    "import warnings\n",
    "warnings.filterwarnings(\"ignore\")\n",
    "from tqdm.auto import tqdm\n",
    "from itertools import combinations\n",
    "import numpy as np\n",
    "from utils.explode import explode_df\n",
    "from utils.text_clean import clean_text\n",
    "from Config import config"
   ]
  },
  {
   "cell_type": "code",
   "execution_count": 4,
   "id": "6f4e14de-1033-4266-a3bd-bfd71a307e08",
   "metadata": {},
   "outputs": [],
   "source": [
    "df = pd.read_csv('/workspace/clustering/data/input/Fuse_exploded_ZAF_cleaned.csv')\n",
    "\n",
    "df[\"poi\"] = df[\"placeId\"]"
   ]
  },
  {
   "cell_type": "code",
   "execution_count": 5,
   "id": "0635f7f9",
   "metadata": {},
   "outputs": [],
   "source": [
    "df[\"brands\"].fillna('UNKwn',inplace =True)\n",
    "df[\"brands\"] = df[\"brands\"].map(str)"
   ]
  },
  {
   "cell_type": "code",
   "execution_count": 6,
   "id": "ccaacbdd-9263-4e2e-a632-a6278cba6075",
   "metadata": {},
   "outputs": [],
   "source": [
    "def isNameMatch(name1, name2):\n",
    "    numerator = rapidfuzz.distance.Levenshtein.distance(name1.lower(), name2.lower()) * 100\n",
    "    denominator = len(name1) if len(name1) > len(name2) else len(name2)\n",
    "    \n",
    "    #Foloowing statement checks for common words between 2 strings and mark containent flag as true or false\n",
    "    containment = len(set(name1.lower().split()) & set(name2.lower().split())) > 0\n",
    "    \n",
    "    if ((numerator / denominator) <= 50) and (containment==False):\n",
    "        return False\n",
    "    else:\n",
    "        return True"
   ]
  },
  {
   "cell_type": "code",
   "execution_count": 7,
   "id": "9c059a3f-2b57-4212-9652-be3daae72336",
   "metadata": {},
   "outputs": [],
   "source": [
    "def isBrandMatch(brand1, brand2):\n",
    "    #match = True\n",
    "    if brand1 == \"UNKwn\" or brand2 == \"UNKwn\":\n",
    "        return True\n",
    "    elif brand1.lower() != brand2.lower():\n",
    "        return False\n",
    "    elif brand1.lower() == brand2.lower():\n",
    "        return True"
   ]
  },
  {
   "cell_type": "code",
   "execution_count": 8,
   "id": "0bfac176-a42e-4a81-915a-ff926d5f2e65",
   "metadata": {},
   "outputs": [],
   "source": [
    "def isDistanceMatch(lat1, lon1, lat2, lon2):\n",
    "    distance = haversine((lat1, lon1), (lat2, lon2), unit='m')\n",
    "    if distance > 500:\n",
    "        return False\n",
    "    else:\n",
    "        return True"
   ]
  },
  {
   "cell_type": "code",
   "execution_count": 9,
   "id": "298d282b",
   "metadata": {},
   "outputs": [
    {
     "data": {
      "application/vnd.jupyter.widget-view+json": {
       "model_id": "6a296e14c1f14213bc4b493fcc48ff4a",
       "version_major": 2,
       "version_minor": 0
      },
      "text/plain": [
       "  0%|          | 0/673053 [00:00<?, ?it/s]"
      ]
     },
     "metadata": {},
     "output_type": "display_data"
    }
   ],
   "source": [
    "matches = set()\n",
    "for cluster_id, values in tqdm(df.groupby([\"clusterId\"])):\n",
    "    names = values[\"placeId\"].tolist()\n",
    "    comb = set([tuple(sorted(x)) for x in set(combinations(names, 2))])\n",
    "    matches.update(comb)"
   ]
  },
  {
   "cell_type": "code",
   "execution_count": 10,
   "id": "da3ab9e7",
   "metadata": {},
   "outputs": [],
   "source": [
    "df_pairs = pd.DataFrame(matches)\n",
    "df_pairs.columns = ['Id1', 'Id2']\n",
    "df_pairs.drop_duplicates(inplace=True)"
   ]
  },
  {
   "cell_type": "code",
   "execution_count": 11,
   "id": "789657d8",
   "metadata": {},
   "outputs": [],
   "source": [
    "\n",
    "df_pairs = pd.merge(df_pairs, df,  how='left', left_on=[\n",
    "                    'Id1'], right_on=['placeId'])\n",
    "df_pairs = pd.merge(df_pairs, df,  how='left', left_on=[\n",
    "                    'Id2'], right_on=['placeId'], suffixes=[1, 2])"
   ]
  },
  {
   "cell_type": "code",
   "execution_count": 11,
   "id": "929311eb",
   "metadata": {},
   "outputs": [
    {
     "data": {
      "text/plain": [
       "Index(['placeId1', 'placeId2', 'locality1', 'clusterId1', 'placeId1',\n",
       "       'sourceNames1', 'category1', 'brands1', 'latitude1', 'longitude1',\n",
       "       'houseNumber1', 'streets1', 'cities1', 'postalCode1', 'Id1', 'poi1',\n",
       "       'locality2', 'clusterId2', 'placeId2', 'sourceNames2', 'category2',\n",
       "       'brands2', 'latitude2', 'longitude2', 'houseNumber2', 'streets2',\n",
       "       'cities2', 'postalCode2', 'Id2', 'poi2'],\n",
       "      dtype='object')"
      ]
     },
     "execution_count": 11,
     "metadata": {},
     "output_type": "execute_result"
    }
   ],
   "source": [
    "df_pairs.columns"
   ]
  },
  {
   "cell_type": "code",
   "execution_count": 12,
   "id": "6a0135a1",
   "metadata": {},
   "outputs": [],
   "source": [
    "df_pairs[\"isNameMatch\"] = np.vectorize(isNameMatch)(df_pairs['sourceNames1'], df_pairs['sourceNames2'])\n",
    "df_pairs[\"isBrandMatch\"] = np.vectorize(isNameMatch)(df_pairs['brands1'], df_pairs['brands2'])\n",
    "df_pairs[\"isDistanceMatch\"] = np.vectorize(isDistanceMatch)(df_pairs['latitude1'], df_pairs['longitude1'],df_pairs['latitude2'], df_pairs['longitude2'])\n"
   ]
  },
  {
   "cell_type": "code",
   "execution_count": 32,
   "id": "87034db1",
   "metadata": {},
   "outputs": [
    {
     "data": {
      "text/plain": [
       "Index(['Id1', 'Id2', 'locality1', 'clusterId1', 'placeId1', 'sourceNames1',\n",
       "       'category1', 'brands1', 'latitude1', 'longitude1', 'houseNumber1',\n",
       "       'streets1', 'cities1', 'postalCode1', 'Id1', 'poi1', 'locality2',\n",
       "       'clusterId2', 'placeId2', 'sourceNames2', 'category2', 'brands2',\n",
       "       'latitude2', 'longitude2', 'houseNumber2', 'streets2', 'cities2',\n",
       "       'postalCode2', 'Id2', 'poi2', 'isNameMatch', 'isBrandMatch',\n",
       "       'isDistanceMatch'],\n",
       "      dtype='object')"
      ]
     },
     "execution_count": 32,
     "metadata": {},
     "output_type": "execute_result"
    }
   ],
   "source": [
    "df_pairs.columns"
   ]
  },
  {
   "cell_type": "code",
   "execution_count": 13,
   "id": "aa0aebe9-8963-4bb1-9af9-71bcd5e1c664",
   "metadata": {},
   "outputs": [
    {
     "data": {
      "text/html": [
       "<div>\n",
       "<style scoped>\n",
       "    .dataframe tbody tr th:only-of-type {\n",
       "        vertical-align: middle;\n",
       "    }\n",
       "\n",
       "    .dataframe tbody tr th {\n",
       "        vertical-align: top;\n",
       "    }\n",
       "\n",
       "    .dataframe thead th {\n",
       "        text-align: right;\n",
       "    }\n",
       "</style>\n",
       "<table border=\"1\" class=\"dataframe\">\n",
       "  <thead>\n",
       "    <tr style=\"text-align: right;\">\n",
       "      <th></th>\n",
       "      <th>isNameMatch</th>\n",
       "      <th>isBrandMatch</th>\n",
       "      <th>isDistanceMatch</th>\n",
       "      <th>placeId1</th>\n",
       "    </tr>\n",
       "  </thead>\n",
       "  <tbody>\n",
       "    <tr>\n",
       "      <th>0</th>\n",
       "      <td>False</td>\n",
       "      <td>False</td>\n",
       "      <td>False</td>\n",
       "      <td>5</td>\n",
       "    </tr>\n",
       "    <tr>\n",
       "      <th>1</th>\n",
       "      <td>False</td>\n",
       "      <td>False</td>\n",
       "      <td>True</td>\n",
       "      <td>28</td>\n",
       "    </tr>\n",
       "    <tr>\n",
       "      <th>2</th>\n",
       "      <td>False</td>\n",
       "      <td>True</td>\n",
       "      <td>False</td>\n",
       "      <td>780</td>\n",
       "    </tr>\n",
       "    <tr>\n",
       "      <th>3</th>\n",
       "      <td>False</td>\n",
       "      <td>True</td>\n",
       "      <td>True</td>\n",
       "      <td>6769</td>\n",
       "    </tr>\n",
       "    <tr>\n",
       "      <th>4</th>\n",
       "      <td>True</td>\n",
       "      <td>False</td>\n",
       "      <td>False</td>\n",
       "      <td>689</td>\n",
       "    </tr>\n",
       "    <tr>\n",
       "      <th>5</th>\n",
       "      <td>True</td>\n",
       "      <td>False</td>\n",
       "      <td>True</td>\n",
       "      <td>401</td>\n",
       "    </tr>\n",
       "    <tr>\n",
       "      <th>6</th>\n",
       "      <td>True</td>\n",
       "      <td>True</td>\n",
       "      <td>False</td>\n",
       "      <td>424343</td>\n",
       "    </tr>\n",
       "    <tr>\n",
       "      <th>7</th>\n",
       "      <td>True</td>\n",
       "      <td>True</td>\n",
       "      <td>True</td>\n",
       "      <td>4933971</td>\n",
       "    </tr>\n",
       "  </tbody>\n",
       "</table>\n",
       "</div>"
      ],
      "text/plain": [
       "   isNameMatch  isBrandMatch  isDistanceMatch  placeId1\n",
       "0        False         False            False         5\n",
       "1        False         False             True        28\n",
       "2        False          True            False       780\n",
       "3        False          True             True      6769\n",
       "4         True         False            False       689\n",
       "5         True         False             True       401\n",
       "6         True          True            False    424343\n",
       "7         True          True             True   4933971"
      ]
     },
     "execution_count": 13,
     "metadata": {},
     "output_type": "execute_result"
    }
   ],
   "source": [
    "match_result = df_pairs.groupby(['isNameMatch', 'isBrandMatch', 'isDistanceMatch'], as_index=False)['placeId1'].count()\n",
    "match_result"
   ]
  },
  {
   "cell_type": "code",
   "execution_count": 14,
   "id": "90968a08",
   "metadata": {},
   "outputs": [
    {
     "data": {
      "text/plain": [
       "4933971"
      ]
     },
     "execution_count": 14,
     "metadata": {},
     "output_type": "execute_result"
    }
   ],
   "source": [
    "true_value = match_result[(match_result['isNameMatch']==True) & \\\n",
    "                          (match_result['isBrandMatch']==True) & \\\n",
    "                          (match_result['isDistanceMatch']==True)]['placeId1'].values[0]\n",
    "true_value"
   ]
  },
  {
   "cell_type": "code",
   "execution_count": 15,
   "id": "b306b8d4-d291-4c4b-bdaf-adaa6361d9aa",
   "metadata": {},
   "outputs": [
    {
     "data": {
      "text/html": [
       "<div>\n",
       "<style scoped>\n",
       "    .dataframe tbody tr th:only-of-type {\n",
       "        vertical-align: middle;\n",
       "    }\n",
       "\n",
       "    .dataframe tbody tr th {\n",
       "        vertical-align: top;\n",
       "    }\n",
       "\n",
       "    .dataframe thead th {\n",
       "        text-align: right;\n",
       "    }\n",
       "</style>\n",
       "<table border=\"1\" class=\"dataframe\">\n",
       "  <thead>\n",
       "    <tr style=\"text-align: right;\">\n",
       "      <th></th>\n",
       "      <th>isNameMatch</th>\n",
       "      <th>isBrandMatch</th>\n",
       "      <th>isDistanceMatch</th>\n",
       "      <th>placeId1</th>\n",
       "      <th>percentage</th>\n",
       "    </tr>\n",
       "  </thead>\n",
       "  <tbody>\n",
       "    <tr>\n",
       "      <th>0</th>\n",
       "      <td>False</td>\n",
       "      <td>False</td>\n",
       "      <td>False</td>\n",
       "      <td>5</td>\n",
       "      <td>0.000101</td>\n",
       "    </tr>\n",
       "    <tr>\n",
       "      <th>1</th>\n",
       "      <td>False</td>\n",
       "      <td>False</td>\n",
       "      <td>True</td>\n",
       "      <td>28</td>\n",
       "      <td>0.000567</td>\n",
       "    </tr>\n",
       "    <tr>\n",
       "      <th>2</th>\n",
       "      <td>False</td>\n",
       "      <td>True</td>\n",
       "      <td>False</td>\n",
       "      <td>780</td>\n",
       "      <td>0.015809</td>\n",
       "    </tr>\n",
       "    <tr>\n",
       "      <th>3</th>\n",
       "      <td>False</td>\n",
       "      <td>True</td>\n",
       "      <td>True</td>\n",
       "      <td>6769</td>\n",
       "      <td>0.137192</td>\n",
       "    </tr>\n",
       "    <tr>\n",
       "      <th>4</th>\n",
       "      <td>True</td>\n",
       "      <td>False</td>\n",
       "      <td>False</td>\n",
       "      <td>689</td>\n",
       "      <td>0.013964</td>\n",
       "    </tr>\n",
       "    <tr>\n",
       "      <th>5</th>\n",
       "      <td>True</td>\n",
       "      <td>False</td>\n",
       "      <td>True</td>\n",
       "      <td>401</td>\n",
       "      <td>0.008127</td>\n",
       "    </tr>\n",
       "    <tr>\n",
       "      <th>6</th>\n",
       "      <td>True</td>\n",
       "      <td>True</td>\n",
       "      <td>False</td>\n",
       "      <td>424343</td>\n",
       "      <td>8.600436</td>\n",
       "    </tr>\n",
       "    <tr>\n",
       "      <th>7</th>\n",
       "      <td>True</td>\n",
       "      <td>True</td>\n",
       "      <td>True</td>\n",
       "      <td>4933971</td>\n",
       "      <td>100.000000</td>\n",
       "    </tr>\n",
       "  </tbody>\n",
       "</table>\n",
       "</div>"
      ],
      "text/plain": [
       "   isNameMatch  isBrandMatch  isDistanceMatch  placeId1  percentage\n",
       "0        False         False            False         5    0.000101\n",
       "1        False         False             True        28    0.000567\n",
       "2        False          True            False       780    0.015809\n",
       "3        False          True             True      6769    0.137192\n",
       "4         True         False            False       689    0.013964\n",
       "5         True         False             True       401    0.008127\n",
       "6         True          True            False    424343    8.600436\n",
       "7         True          True             True   4933971  100.000000"
      ]
     },
     "execution_count": 15,
     "metadata": {},
     "output_type": "execute_result"
    }
   ],
   "source": [
    "match_result['percentage'] = (match_result['placeId1']/true_value)*100\n",
    "match_result"
   ]
  },
  {
   "cell_type": "markdown",
   "id": "d21a3d19",
   "metadata": {},
   "source": [
    "# Model output calculation"
   ]
  },
  {
   "cell_type": "code",
   "execution_count": 16,
   "id": "2c692214",
   "metadata": {},
   "outputs": [],
   "source": [
    "df_clusters = pd.read_csv(\"/workspace/results/NZL_final_clustered.csv\")"
   ]
  },
  {
   "cell_type": "code",
   "execution_count": 18,
   "id": "deb0633c",
   "metadata": {},
   "outputs": [],
   "source": [
    "df_raw = pd.read_csv(\"/workspace/data/raw/Fuse_NZL.csv\")"
   ]
  },
  {
   "cell_type": "code",
   "execution_count": 19,
   "id": "6fe3592b",
   "metadata": {},
   "outputs": [],
   "source": [
    "cols = ['locality','placeId', 'sourceNames',\n",
    "       'rawCategories', 'insertedCategories', 'preemptiveCategories',\n",
    "       'category', 'subCategory', 'officialName', 'brands', 'phoneNumbers',\n",
    "       'internet', 'email', 'latitude', 'longitude', 'houseNumber', 'streets',\n",
    "       'cities', 'postalCode']"
   ]
  },
  {
   "cell_type": "code",
   "execution_count": 20,
   "id": "9adf7f9b",
   "metadata": {},
   "outputs": [],
   "source": [
    "df = pd.merge(df_clusters, df_raw[cols],  how='left', left_on=[\n",
    "                    'placeId'], right_on=['placeId'], suffixes=[1, 2])"
   ]
  },
  {
   "cell_type": "code",
   "execution_count": 21,
   "id": "f131e929",
   "metadata": {},
   "outputs": [
    {
     "name": "stdout",
     "output_type": "stream",
     "text": [
      "length of overall dataframe 495781\n",
      "length of overall dataframe after exploding sourceNames is 514055\n",
      "length of overall dataframe after dropping null 514055\n",
      "length of after exploding all columns 995663\n",
      "length after dropping where lat and long both are zero 985233\n",
      "length after dropping null sourcenames 985233\n",
      "length after dropping duplicates 973953\n",
      "length of final explode 973953\n"
     ]
    }
   ],
   "source": [
    "df = explode_df(df)"
   ]
  },
  {
   "cell_type": "code",
   "execution_count": 22,
   "id": "a7567038",
   "metadata": {},
   "outputs": [],
   "source": [
    "df[\"brands\"].fillna('UNKwn',inplace =True)\n",
    "df[\"brands\"] = df[\"brands\"].map(str)"
   ]
  },
  {
   "cell_type": "code",
   "execution_count": 23,
   "id": "bf3debbf",
   "metadata": {},
   "outputs": [],
   "source": [
    "df[\"latitude\"] = df[\"latitude\"].map(float)\n",
    "df[\"longitude\"] = df[\"longitude\"].map(float)\n"
   ]
  },
  {
   "cell_type": "code",
   "execution_count": 24,
   "id": "5ee39e03",
   "metadata": {},
   "outputs": [],
   "source": [
    "df[\"sourceNames\"] = df[\"sourceNames\"].map(clean_text)\n",
    "df['sourceNames'] = df['sourceNames'].replace('', np.nan)"
   ]
  },
  {
   "cell_type": "code",
   "execution_count": 25,
   "id": "cc68c2c4",
   "metadata": {},
   "outputs": [
    {
     "name": "stdout",
     "output_type": "stream",
     "text": [
      "----in drop columns--\n",
      "--------current col : sourceNames\n",
      "--------current col : latitude\n",
      "--------current col : longitude\n",
      "----in imputing values--\n",
      "->->current col : houseNumber, impute value :0\n",
      " null values length for the column houseNumber is 286606\n",
      "length of index list : 286606\n",
      "->->current col : streets, impute value : \n",
      " null values length for the column streets is 121297\n",
      "length of index list : 407903\n",
      "->->current col : cities, impute value : \n",
      " null values length for the column cities is 8334\n",
      "length of index list : 416237\n",
      "->->current col : postalCode, impute value :0\n",
      " null values length for the column postalCode is 22608\n",
      "length of index list : 438845\n",
      "----in imputing values--\n",
      "->->current col : houseNumber, impute value :0\n",
      " null values length for the column houseNumber is 0\n",
      "length of index list : 0\n",
      "->->current col : streets, impute value : \n",
      " null values length for the column streets is 0\n",
      "length of index list : 0\n",
      "->->current col : cities, impute value : \n",
      " null values length for the column cities is 0\n",
      "length of index list : 0\n",
      "->->current col : postalCode, impute value :0\n",
      " null values length for the column postalCode is 0\n",
      "length of index list : 0\n"
     ]
    }
   ],
   "source": [
    "\n",
    "print(f'----in drop columns--')\n",
    "for col in config.drop_cols:\n",
    "    print(f'--------current col : {col}')\n",
    "    df = df.dropna(subset=[col])\n",
    "\n",
    "df['houseNumber'] = df['houseNumber'].replace('', np.nan)\n",
    "df['streets'] = df['streets'].replace('', np.nan)\n",
    "df['category'] = df['category'].replace('', np.nan)\n",
    "df['postalCode'] = df['postalCode'].replace('', np.nan)\n",
    "df['cities'] = df['cities'].replace('', np.nan)\n",
    "\n",
    "df = imputing_values(df, dict_update_null=config.dict_update_null)\n",
    "\n",
    "df[\"streets\"] = df[\"streets\"].map(clean_text)\n",
    "df[\"cities\"] = df[\"cities\"].map(clean_text)\n",
    "df[\"category\"] = df[\"category\"].map(clean_text)\n",
    "df[\"houseNumber\"] = df[\"houseNumber\"].map(clean_text)\n",
    "df[\"postalCode\"] = df[\"postalCode\"].map(clean_text)\n",
    "df = imputing_values(df, dict_update_null=config.dict_update_null)\n",
    "\n",
    "df.reset_index(drop=True, inplace=True)\n",
    "df[\"Id\"] = df.index\n",
    "\n",
    "for col in df.columns:\n",
    "    if col not in config.columns_keep:\n",
    "        df.drop(col,axis=1,inplace=True)\n",
    "    "
   ]
  },
  {
   "cell_type": "code",
   "execution_count": 26,
   "id": "f6083713",
   "metadata": {},
   "outputs": [
    {
     "data": {
      "application/vnd.jupyter.widget-view+json": {
       "model_id": "d7baadd61eac4d6cac55f45d7aac15b1",
       "version_major": 2,
       "version_minor": 0
      },
      "text/plain": [
       "  0%|          | 0/299899 [00:00<?, ?it/s]"
      ]
     },
     "metadata": {},
     "output_type": "display_data"
    }
   ],
   "source": [
    "matches = set()\n",
    "for cluster_id, values in tqdm(df.groupby([\"clusterId\"])):\n",
    "    names = values[\"placeId\"].tolist()\n",
    "    comb = set([tuple(sorted(x)) for x in set(combinations(names, 2))])\n",
    "    matches.update(comb)"
   ]
  },
  {
   "cell_type": "code",
   "execution_count": 27,
   "id": "501b0aad",
   "metadata": {},
   "outputs": [],
   "source": [
    "df_pairs = pd.DataFrame(matches)\n",
    "df_pairs.columns = ['Id1', 'Id2']\n",
    "df_pairs.drop_duplicates(inplace=True)"
   ]
  },
  {
   "cell_type": "code",
   "execution_count": 28,
   "id": "53f85c2e",
   "metadata": {},
   "outputs": [],
   "source": [
    "\n",
    "df_pairs = pd.merge(df_pairs, df,  how='left', left_on=[\n",
    "                    'Id1'], right_on=['placeId'])\n",
    "df_pairs = pd.merge(df_pairs, df,  how='left', left_on=[\n",
    "                    'Id2'], right_on=['placeId'], suffixes=[1, 2])"
   ]
  },
  {
   "cell_type": "code",
   "execution_count": 29,
   "id": "9ff42456",
   "metadata": {},
   "outputs": [],
   "source": [
    "df_pairs[\"isNameMatch\"] = np.vectorize(isNameMatch)(df_pairs['sourceNames1'], df_pairs['sourceNames2'])\n",
    "df_pairs[\"isBrandMatch\"] = np.vectorize(isNameMatch)(df_pairs['brands1'], df_pairs['brands2'])\n",
    "df_pairs[\"isDistanceMatch\"] = np.vectorize(isDistanceMatch)(df_pairs['latitude1'], df_pairs['longitude1'],df_pairs['latitude2'], df_pairs['longitude2'])\n"
   ]
  },
  {
   "cell_type": "code",
   "execution_count": 30,
   "id": "f0870978",
   "metadata": {},
   "outputs": [
    {
     "data": {
      "text/html": [
       "<div>\n",
       "<style scoped>\n",
       "    .dataframe tbody tr th:only-of-type {\n",
       "        vertical-align: middle;\n",
       "    }\n",
       "\n",
       "    .dataframe tbody tr th {\n",
       "        vertical-align: top;\n",
       "    }\n",
       "\n",
       "    .dataframe thead th {\n",
       "        text-align: right;\n",
       "    }\n",
       "</style>\n",
       "<table border=\"1\" class=\"dataframe\">\n",
       "  <thead>\n",
       "    <tr style=\"text-align: right;\">\n",
       "      <th></th>\n",
       "      <th>isNameMatch</th>\n",
       "      <th>isBrandMatch</th>\n",
       "      <th>isDistanceMatch</th>\n",
       "      <th>placeId1</th>\n",
       "    </tr>\n",
       "  </thead>\n",
       "  <tbody>\n",
       "    <tr>\n",
       "      <th>0</th>\n",
       "      <td>False</td>\n",
       "      <td>False</td>\n",
       "      <td>False</td>\n",
       "      <td>6</td>\n",
       "    </tr>\n",
       "    <tr>\n",
       "      <th>1</th>\n",
       "      <td>False</td>\n",
       "      <td>False</td>\n",
       "      <td>True</td>\n",
       "      <td>38</td>\n",
       "    </tr>\n",
       "    <tr>\n",
       "      <th>2</th>\n",
       "      <td>False</td>\n",
       "      <td>True</td>\n",
       "      <td>False</td>\n",
       "      <td>170</td>\n",
       "    </tr>\n",
       "    <tr>\n",
       "      <th>3</th>\n",
       "      <td>False</td>\n",
       "      <td>True</td>\n",
       "      <td>True</td>\n",
       "      <td>5495</td>\n",
       "    </tr>\n",
       "    <tr>\n",
       "      <th>4</th>\n",
       "      <td>True</td>\n",
       "      <td>False</td>\n",
       "      <td>False</td>\n",
       "      <td>30</td>\n",
       "    </tr>\n",
       "    <tr>\n",
       "      <th>5</th>\n",
       "      <td>True</td>\n",
       "      <td>False</td>\n",
       "      <td>True</td>\n",
       "      <td>769</td>\n",
       "    </tr>\n",
       "    <tr>\n",
       "      <th>6</th>\n",
       "      <td>True</td>\n",
       "      <td>True</td>\n",
       "      <td>False</td>\n",
       "      <td>64698</td>\n",
       "    </tr>\n",
       "    <tr>\n",
       "      <th>7</th>\n",
       "      <td>True</td>\n",
       "      <td>True</td>\n",
       "      <td>True</td>\n",
       "      <td>3135106</td>\n",
       "    </tr>\n",
       "  </tbody>\n",
       "</table>\n",
       "</div>"
      ],
      "text/plain": [
       "   isNameMatch  isBrandMatch  isDistanceMatch  placeId1\n",
       "0        False         False            False         6\n",
       "1        False         False             True        38\n",
       "2        False          True            False       170\n",
       "3        False          True             True      5495\n",
       "4         True         False            False        30\n",
       "5         True         False             True       769\n",
       "6         True          True            False     64698\n",
       "7         True          True             True   3135106"
      ]
     },
     "execution_count": 30,
     "metadata": {},
     "output_type": "execute_result"
    }
   ],
   "source": [
    "match_result = df_pairs.groupby(['isNameMatch', 'isBrandMatch', 'isDistanceMatch'], as_index=False)['placeId1'].count()\n",
    "match_result"
   ]
  },
  {
   "cell_type": "code",
   "execution_count": 31,
   "id": "4f475eb6",
   "metadata": {},
   "outputs": [
    {
     "data": {
      "text/plain": [
       "3135106"
      ]
     },
     "execution_count": 31,
     "metadata": {},
     "output_type": "execute_result"
    }
   ],
   "source": [
    "true_value = match_result[(match_result['isNameMatch']==True) & \\\n",
    "                          (match_result['isBrandMatch']==True) & \\\n",
    "                          (match_result['isDistanceMatch']==True)]['placeId1'].values[0]\n",
    "true_value"
   ]
  },
  {
   "cell_type": "code",
   "execution_count": null,
   "id": "b20646bd",
   "metadata": {},
   "outputs": [],
   "source": [
    "# False\tTrue\tFalse\t18\t0.029819\t0.029819\n",
    "# 1\tFalse\tTrue\tTrue\t200\t0.331323\t0.331323\n",
    "# 2\tTrue\tTrue\tFalse\t3637\t6.025114\t6.025114\n",
    "# 3\tTrue\tTrue\tTrue\t60364\t100.000000\t100.000000"
   ]
  },
  {
   "cell_type": "code",
   "execution_count": 32,
   "id": "a063b263",
   "metadata": {},
   "outputs": [
    {
     "data": {
      "text/html": [
       "<div>\n",
       "<style scoped>\n",
       "    .dataframe tbody tr th:only-of-type {\n",
       "        vertical-align: middle;\n",
       "    }\n",
       "\n",
       "    .dataframe tbody tr th {\n",
       "        vertical-align: top;\n",
       "    }\n",
       "\n",
       "    .dataframe thead th {\n",
       "        text-align: right;\n",
       "    }\n",
       "</style>\n",
       "<table border=\"1\" class=\"dataframe\">\n",
       "  <thead>\n",
       "    <tr style=\"text-align: right;\">\n",
       "      <th></th>\n",
       "      <th>isNameMatch</th>\n",
       "      <th>isBrandMatch</th>\n",
       "      <th>isDistanceMatch</th>\n",
       "      <th>placeId1</th>\n",
       "      <th>percentage</th>\n",
       "    </tr>\n",
       "  </thead>\n",
       "  <tbody>\n",
       "    <tr>\n",
       "      <th>0</th>\n",
       "      <td>False</td>\n",
       "      <td>False</td>\n",
       "      <td>False</td>\n",
       "      <td>6</td>\n",
       "      <td>0.000191</td>\n",
       "    </tr>\n",
       "    <tr>\n",
       "      <th>1</th>\n",
       "      <td>False</td>\n",
       "      <td>False</td>\n",
       "      <td>True</td>\n",
       "      <td>38</td>\n",
       "      <td>0.001212</td>\n",
       "    </tr>\n",
       "    <tr>\n",
       "      <th>2</th>\n",
       "      <td>False</td>\n",
       "      <td>True</td>\n",
       "      <td>False</td>\n",
       "      <td>170</td>\n",
       "      <td>0.005422</td>\n",
       "    </tr>\n",
       "    <tr>\n",
       "      <th>3</th>\n",
       "      <td>False</td>\n",
       "      <td>True</td>\n",
       "      <td>True</td>\n",
       "      <td>5495</td>\n",
       "      <td>0.175273</td>\n",
       "    </tr>\n",
       "    <tr>\n",
       "      <th>4</th>\n",
       "      <td>True</td>\n",
       "      <td>False</td>\n",
       "      <td>False</td>\n",
       "      <td>30</td>\n",
       "      <td>0.000957</td>\n",
       "    </tr>\n",
       "    <tr>\n",
       "      <th>5</th>\n",
       "      <td>True</td>\n",
       "      <td>False</td>\n",
       "      <td>True</td>\n",
       "      <td>769</td>\n",
       "      <td>0.024529</td>\n",
       "    </tr>\n",
       "    <tr>\n",
       "      <th>6</th>\n",
       "      <td>True</td>\n",
       "      <td>True</td>\n",
       "      <td>False</td>\n",
       "      <td>64698</td>\n",
       "      <td>2.063662</td>\n",
       "    </tr>\n",
       "    <tr>\n",
       "      <th>7</th>\n",
       "      <td>True</td>\n",
       "      <td>True</td>\n",
       "      <td>True</td>\n",
       "      <td>3135106</td>\n",
       "      <td>100.000000</td>\n",
       "    </tr>\n",
       "  </tbody>\n",
       "</table>\n",
       "</div>"
      ],
      "text/plain": [
       "   isNameMatch  isBrandMatch  isDistanceMatch  placeId1  percentage\n",
       "0        False         False            False         6    0.000191\n",
       "1        False         False             True        38    0.001212\n",
       "2        False          True            False       170    0.005422\n",
       "3        False          True             True      5495    0.175273\n",
       "4         True         False            False        30    0.000957\n",
       "5         True         False             True       769    0.024529\n",
       "6         True          True            False     64698    2.063662\n",
       "7         True          True             True   3135106  100.000000"
      ]
     },
     "execution_count": 32,
     "metadata": {},
     "output_type": "execute_result"
    }
   ],
   "source": [
    "match_result['percentage'] = (match_result['placeId1']/true_value)*100\n",
    "match_result"
   ]
  }
 ],
 "metadata": {
  "kernelspec": {
   "display_name": "Python 3.8.13 ('rapids')",
   "language": "python",
   "name": "python3"
  },
  "language_info": {
   "codemirror_mode": {
    "name": "ipython",
    "version": 3
   },
   "file_extension": ".py",
   "mimetype": "text/x-python",
   "name": "python",
   "nbconvert_exporter": "python",
   "pygments_lexer": "ipython3",
   "version": "3.8.13"
  },
  "vscode": {
   "interpreter": {
    "hash": "f708a36acfaef0acf74ccd43dfb58100269bf08fb79032a1e0a6f35bd9856f51"
   }
  }
 },
 "nbformat": 4,
 "nbformat_minor": 5
}
