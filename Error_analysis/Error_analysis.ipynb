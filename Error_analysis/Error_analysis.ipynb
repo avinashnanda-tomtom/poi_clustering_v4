{
 "cells": [
  {
   "cell_type": "code",
   "execution_count": 1,
   "metadata": {},
   "outputs": [],
   "source": [
    "import pandas as pd\n",
    "from Config import config\n",
    "import glob\n",
    "from tqdm.auto import tqdm\n",
    "from itertools import combinations"
   ]
  },
  {
   "cell_type": "code",
   "execution_count": 2,
   "metadata": {},
   "outputs": [],
   "source": [
    "candidate_set_df = pd.read_csv(\"/workspace/clustering/outputs/results/NZL_final_clustered.csv\")\n",
    "df_raw = pd.read_csv(config.raw_dir + f\"Fuse_NZL.csv\",engine='c')\n",
    "golden_df = pd.read_csv(config.gt_dir + f\"GT_NZL.csv\")"
   ]
  },
  {
   "cell_type": "code",
   "execution_count": 4,
   "metadata": {},
   "outputs": [
    {
     "data": {
      "application/vnd.jupyter.widget-view+json": {
       "model_id": "f9b67fd95ce946ad8741197ea8a55e02",
       "version_major": 2,
       "version_minor": 0
      },
      "text/plain": [
       "  0%|          | 0/302594 [00:00<?, ?it/s]"
      ]
     },
     "metadata": {},
     "output_type": "display_data"
    }
   ],
   "source": [
    "matches = set()\n",
    "for cluster_id, values in tqdm(candidate_set_df.groupby([\"clusterId\"])):\n",
    "    names = values[\"placeId\"].tolist()\n",
    "    comb = set([tuple(sorted(x)) for x in set(combinations(names, 2))])\n",
    "    matches.update(comb)\n",
    "df_pairs = pd.DataFrame(matches)\n",
    "df_pairs.columns = ['placeId1', 'placeId2']\n",
    "\n",
    "gold = []\n",
    "for i, row in golden_df.iterrows():\n",
    "    gold.append(sorted([row[\"placeId1\"], row[\"placeId2\"]]))\n",
    "gold = pd.DataFrame(gold)\n",
    "gold.columns = ['placeId1', 'placeId2']"
   ]
  },
  {
   "cell_type": "code",
   "execution_count": 8,
   "metadata": {},
   "outputs": [],
   "source": [
    "gold = gold.drop_duplicates()"
   ]
  },
  {
   "cell_type": "code",
   "execution_count": 9,
   "metadata": {},
   "outputs": [],
   "source": [
    "df_pairs[\"detected\"] =\"yes\""
   ]
  },
  {
   "cell_type": "code",
   "execution_count": 10,
   "metadata": {},
   "outputs": [],
   "source": [
    "merged_df = pd.merge(gold,df_pairs,how ='left',on=['placeId1', 'placeId2'],suffixes=[\"\",\"r\"])"
   ]
  },
  {
   "cell_type": "code",
   "execution_count": 16,
   "metadata": {},
   "outputs": [],
   "source": [
    "not_detected_df = merged_df[merged_df[\"detected\"].isnull()][[\"placeId1\",\"placeId2\"]]\n",
    "not_detected_df.drop_duplicates(inplace=True)"
   ]
  },
  {
   "cell_type": "code",
   "execution_count": 17,
   "metadata": {},
   "outputs": [],
   "source": [
    "not_detected_df = pd.merge(not_detected_df, df_raw,  how='left', left_on=[\n",
    "                    'placeId1'], right_on=['placeId'])\n",
    "not_detected_df.drop('placeId',inplace=True,axis=1)\n",
    "not_detected_df = pd.merge(not_detected_df, df_raw,  how='left', left_on=[\n",
    "                    'placeId2'], right_on=['placeId'],suffixes=[\"1\",\"2\"])\n",
    "not_detected_df.drop('placeId',inplace=True,axis=1)"
   ]
  },
  {
   "cell_type": "code",
   "execution_count": 39,
   "metadata": {},
   "outputs": [],
   "source": [
    "cols = ['placeId1', 'placeId2', 'sourceNames1', 'sourceNames2', 'latitude1',\n",
    "    'latitude2', 'longitude1', 'longitude2', 'category1', 'category2',\n",
    "    'cities1', 'cities2', 'streets1', 'streets2', 'brands1', 'brands2',\n",
    "    'email1', 'email2', 'houseNumber1', 'houseNumber2', 'insertedCategories1',\n",
    "    'insertedCategories2', 'internet1', 'internet2', 'phoneNumbers1',\n",
    "    'phoneNumbers2', 'postalCode1', 'postalCode2', 'preemptiveCategories1',\n",
    "    'preemptiveCategories2', 'rawCategories1', 'rawCategories2',\n",
    "    'subCategory1', 'subCategory2', 'clusterId1', 'clusterId2'\n",
    "]\n"
   ]
  },
  {
   "cell_type": "code",
   "execution_count": null,
   "metadata": {},
   "outputs": [],
   "source": [
    "not_detected_df[cols].to_csv(f\"Missed_entitymatching_{config.country}.csv\",index=None)"
   ]
  },
  {
   "cell_type": "code",
   "execution_count": 27,
   "metadata": {},
   "outputs": [],
   "source": [
    "gold[\"original\"] = \"yes\""
   ]
  },
  {
   "cell_type": "code",
   "execution_count": 31,
   "metadata": {},
   "outputs": [],
   "source": [
    "merged1 = pd.merge(df_pairs,gold,how ='left',on=['placeId1', 'placeId2'],suffixes=[\"\",\"r\"])"
   ]
  },
  {
   "cell_type": "code",
   "execution_count": 35,
   "metadata": {},
   "outputs": [],
   "source": [
    "additional_detected_df = merged1[merged1[\"original\"].isnull()][[\"placeId1\",\"placeId2\"]]\n",
    "additional_detected_df.drop_duplicates(inplace=True)"
   ]
  },
  {
   "cell_type": "code",
   "execution_count": 37,
   "metadata": {},
   "outputs": [],
   "source": [
    "additional_detected_df = pd.merge(additional_detected_df, df_raw,  how='left', left_on=[\n",
    "                    'placeId1'], right_on=['placeId'])\n",
    "additional_detected_df.drop('placeId',inplace=True,axis=1)\n",
    "additional_detected_df = pd.merge(additional_detected_df, df_raw,  how='left', left_on=[\n",
    "                    'placeId2'], right_on=['placeId'],suffixes=[\"1\",\"2\"])"
   ]
  },
  {
   "cell_type": "code",
   "execution_count": 40,
   "metadata": {},
   "outputs": [],
   "source": [
    "additional_detected_df[cols].to_csv(f\"addition_entitymatched_{config.country}.csv\",index=None)"
   ]
  }
 ],
 "metadata": {
  "kernelspec": {
   "display_name": "Python 3.8.13 ('rapids')",
   "language": "python",
   "name": "python3"
  },
  "language_info": {
   "codemirror_mode": {
    "name": "ipython",
    "version": 3
   },
   "file_extension": ".py",
   "mimetype": "text/x-python",
   "name": "python",
   "nbconvert_exporter": "python",
   "pygments_lexer": "ipython3",
   "version": "3.8.13"
  },
  "orig_nbformat": 4,
  "vscode": {
   "interpreter": {
    "hash": "f708a36acfaef0acf74ccd43dfb58100269bf08fb79032a1e0a6f35bd9856f51"
   }
  }
 },
 "nbformat": 4,
 "nbformat_minor": 2
}
